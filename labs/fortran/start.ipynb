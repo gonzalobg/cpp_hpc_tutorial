{
 "cells": [
  {
   "cell_type": "markdown",
   "metadata": {},
   "source": [
    "Accelerating portable HPC Applications with ISO Fortran\n",
    "===\n",
    "\n",
    "## Learning Objectives\n",
    "\n",
    "This full-day hands-on tutorial teaches how to accelerate portable HPC applications with CPUs and GPUs using the parallelism and concurrency features of the Fortran 2008, 2018 and 2023 standards. Attendees will accelerate a canonical PDE solver for the unsteady heat equation from a single threaded implementation to a multi-CPU/multi-GPU implementation that overlaps computation with communication. Along the way, they will learn about Fortran concurrency features like do concurrent, math intrinsics. The tutorial teaches how to integrate these features into hybrid HPC applications using MPI.\n",
    "\n",
    "### Outline\n",
    "\n",
    "This tutorial contains three hands-on labs:\n",
    "\n",
    "- [Lab 1: MATMUL]: Using NVIDIA Tensor Cores from standard Fortran (beginner).\n",
    "- [Lab 2: DAXPY]: Fundamentals of parallel Fortran (beginner).\n",
    "- [Lab 3: Heat Equation]: Solving the two-dimensional unsteady heat equation (beginner).\n",
    "\n",
    "[Lab 1: MATMUL]: lab1_matmul/matmul.ipynb\n",
    "[Lab 2: DAXPY]: lab2_daxpy/daxpy.ipynb\n",
    "[Lab 3: Heat Equation]: lab3_heat/heat.ipynb\n",
    "\n",
    "## Audience, Content Level, Prerequisites, and Duration\n",
    "\n",
    "This full-day tutorial is relevant for those interested in parallel programming models, the Fortran programming language, performance portability and heterogeneous systems. \n",
    "\n",
    "The content is structured into three topics, and progressesn from beginner to intermediate to advanced.\n",
    "\n",
    "Beginner-level experience with Fortran90, OpenMP, and MPI is required.\n",
    "\n",
    "## Getting started\n",
    "\n",
    "Run the following cells by selecting them and pressing `CTRL+ENTER`.\n",
    "\n",
    "Let's start by testing the compiler versions:"
   ]
  },
  {
   "cell_type": "code",
   "execution_count": 3,
   "metadata": {},
   "outputs": [
    {
     "name": "stdout",
     "output_type": "stream",
     "text": [
      "GNU Fortran (Ubuntu 12.1.0-2ubuntu1~22.04) 12.1.0\n",
      "Copyright (C) 2022 Free Software Foundation, Inc.\n",
      "This is free software; see the source for copying conditions.  There is NO\n",
      "warranty; not even for MERCHANTABILITY or FITNESS FOR A PARTICULAR PURPOSE.\n",
      "\n",
      "\n",
      "nvfortran 23.5-0 64-bit target on x86-64 Linux -tp icelake-server \n",
      "NVIDIA Compilers and Tools\n",
      "Copyright (c) 2022, NVIDIA CORPORATION & AFFILIATES.  All rights reserved.\n"
     ]
    }
   ],
   "source": [
    "!gfortran --version\n",
    "!nvfortran --version"
   ]
  },
  {
   "cell_type": "markdown",
   "metadata": {},
   "source": [
    ", the CUDA Driver and GPU you are running the code on in this lab:"
   ]
  },
  {
   "cell_type": "code",
   "execution_count": 1,
   "metadata": {},
   "outputs": [
    {
     "name": "stdout",
     "output_type": "stream",
     "text": [
      "Mon Jun 19 08:48:18 2023       \n",
      "+---------------------------------------------------------------------------------------+\n",
      "| NVIDIA-SMI 530.50                 Driver Version: 530.50       CUDA Version: 12.1     |\n",
      "|-----------------------------------------+----------------------+----------------------+\n",
      "| GPU  Name                  Persistence-M| Bus-Id        Disp.A | Volatile Uncorr. ECC |\n",
      "| Fan  Temp  Perf            Pwr:Usage/Cap|         Memory-Usage | GPU-Util  Compute M. |\n",
      "|                                         |                      |               MIG M. |\n",
      "|=========================================+======================+======================|\n",
      "|   0  NVIDIA Graphics Device          On | 00000000:6B:00.0 Off |                    0 |\n",
      "| N/A   26C    P0               62W / 700W|      0MiB / 81559MiB |      0%      Default |\n",
      "|                                         |                      |             Disabled |\n",
      "+-----------------------------------------+----------------------+----------------------+\n",
      "                                                                                         \n",
      "+---------------------------------------------------------------------------------------+\n",
      "| Processes:                                                                            |\n",
      "|  GPU   GI   CI        PID   Type   Process name                            GPU Memory |\n",
      "|        ID   ID                                                             Usage      |\n",
      "|=======================================================================================|\n",
      "|  No running processes found                                                           |\n",
      "+---------------------------------------------------------------------------------------+\n"
     ]
    }
   ],
   "source": [
    "!nvidia-smi"
   ]
  },
  {
   "cell_type": "markdown",
   "metadata": {},
   "source": [
    "and the CPUs on the system:"
   ]
  },
  {
   "cell_type": "code",
   "execution_count": 2,
   "metadata": {},
   "outputs": [
    {
     "name": "stdout",
     "output_type": "stream",
     "text": [
      "Architecture:            x86_64\n",
      "  CPU op-mode(s):        32-bit, 64-bit\n",
      "  Address sizes:         46 bits physical, 57 bits virtual\n",
      "  Byte Order:            Little Endian\n",
      "CPU(s):                  32\n",
      "  On-line CPU(s) list:   0-31\n",
      "Vendor ID:               GenuineIntel\n",
      "  Model name:            Intel(R) Xeon(R) Silver 4314 CPU @ 2.40GHz\n",
      "    CPU family:          6\n",
      "    Model:               106\n",
      "    Thread(s) per core:  2\n",
      "    Core(s) per socket:  16\n",
      "    Socket(s):           1\n",
      "    Stepping:            6\n",
      "    CPU max MHz:         3400.0000\n",
      "    CPU min MHz:         800.0000\n",
      "    BogoMIPS:            4800.00\n",
      "    Flags:               fpu vme de pse tsc msr pae mce cx8 apic sep mtrr pge mc\n",
      "                         a cmov pat pse36 clflush dts acpi mmx fxsr sse sse2 ss \n",
      "                         ht tm pbe syscall nx pdpe1gb rdtscp lm constant_tsc art\n",
      "                          arch_perfmon pebs bts rep_good nopl xtopology nonstop_\n",
      "                         tsc cpuid aperfmperf pni pclmulqdq dtes64 monitor ds_cp\n",
      "                         l vmx smx est tm2 ssse3 sdbg fma cx16 xtpr pdcm pcid dc\n",
      "                         a sse4_1 sse4_2 x2apic movbe popcnt tsc_deadline_timer \n",
      "                         aes xsave avx f16c rdrand lahf_lm abm 3dnowprefetch cpu\n",
      "                         id_fault epb cat_l3 invpcid_single ssbd mba ibrs ibpb s\n",
      "                         tibp ibrs_enhanced tpr_shadow vnmi flexpriority ept vpi\n",
      "                         d ept_ad fsgsbase tsc_adjust bmi1 avx2 smep bmi2 erms i\n",
      "                         nvpcid cqm rdt_a avx512f avx512dq rdseed adx smap avx51\n",
      "                         2ifma clflushopt clwb intel_pt avx512cd sha_ni avx512bw\n",
      "                          avx512vl xsaveopt xsavec xgetbv1 xsaves cqm_llc cqm_oc\n",
      "                         cup_llc cqm_mbm_total cqm_mbm_local wbnoinvd dtherm ida\n",
      "                          arat pln pts hwp hwp_act_window hwp_epp hwp_pkg_req av\n",
      "                         x512vbmi umip pku ospke avx512_vbmi2 gfni vaes vpclmulq\n",
      "                         dq avx512_vnni avx512_bitalg tme avx512_vpopcntdq rdpid\n",
      "                          md_clear pconfig flush_l1d arch_capabilities\n",
      "Virtualization features: \n",
      "  Virtualization:        VT-x\n",
      "Caches (sum of all):     \n",
      "  L1d:                   768 KiB (16 instances)\n",
      "  L1i:                   512 KiB (16 instances)\n",
      "  L2:                    20 MiB (16 instances)\n",
      "  L3:                    24 MiB (1 instance)\n",
      "NUMA:                    \n",
      "  NUMA node(s):          2\n",
      "  NUMA node0 CPU(s):     0-7,16-23\n",
      "  NUMA node1 CPU(s):     8-15,24-31\n",
      "Vulnerabilities:         \n",
      "  Itlb multihit:         Not affected\n",
      "  L1tf:                  Not affected\n",
      "  Mds:                   Not affected\n",
      "  Meltdown:              Not affected\n",
      "  Spec store bypass:     Mitigation; Speculative Store Bypass disabled via prctl\n",
      "  Spectre v1:            Mitigation; usercopy/swapgs barriers and __user pointer\n",
      "                          sanitization\n",
      "  Spectre v2:            Vulnerable, IBPB: disabled, STIBP: disabled\n",
      "  Srbds:                 Not affected\n",
      "  Tsx async abort:       Not affected\n"
     ]
    }
   ],
   "source": [
    "!lscpu"
   ]
  },
  {
   "cell_type": "markdown",
   "metadata": {},
   "source": [
    "--- \n",
    "\n",
    "## Licensing \n",
    "\n",
    "This material is provided under the MIT License:\n",
    "\n",
    "```\n",
    "SPDX-FileCopyrightText: Copyright (c) 2022 NVIDIA CORPORATION & AFFILIATES. All rights reserved.\n",
    "SPDX-License-Identifier: MIT\n",
    "\n",
    "Permission is hereby granted, free of charge, to any person obtaining a\n",
    "copy of this software and associated documentation files (the \"Software\"),\n",
    "to deal in the Software without restriction, including without limitation\n",
    "the rights to use, copy, modify, merge, publish, distribute, sublicense,\n",
    "and/or sell copies of the Software, and to permit persons to whom the\n",
    "Software is furnished to do so, subject to the following conditions:\n",
    "\n",
    "The above copyright notice and this permission notice shall be included in\n",
    "all copies or substantial portions of the Software.\n",
    "\n",
    "THE SOFTWARE IS PROVIDED \"AS IS\", WITHOUT WARRANTY OF ANY KIND, EXPRESS OR\n",
    "IMPLIED, INCLUDING BUT NOT LIMITED TO THE WARRANTIES OF MERCHANTABILITY,\n",
    "FITNESS FOR A PARTICULAR PURPOSE AND NONINFRINGEMENT. IN NO EVENT SHALL\n",
    "THE AUTHORS OR COPYRIGHT HOLDERS BE LIABLE FOR ANY CLAIM, DAMAGES OR OTHER\n",
    "LIABILITY, WHETHER IN AN ACTION OF CONTRACT, TORT OR OTHERWISE, ARISING\n",
    "FROM, OUT OF OR IN CONNECTION WITH THE SOFTWARE OR THE USE OR OTHER\n",
    "DEALINGS IN THE SOFTWARE.\n",
    "```"
   ]
  }
 ],
 "metadata": {
  "kernelspec": {
   "display_name": "Python 3 (ipykernel)",
   "language": "python",
   "name": "python3"
  },
  "language_info": {
   "codemirror_mode": {
    "name": "ipython",
    "version": 3
   },
   "file_extension": ".py",
   "mimetype": "text/x-python",
   "name": "python",
   "nbconvert_exporter": "python",
   "pygments_lexer": "ipython3",
   "version": "3.10.6"
  }
 },
 "nbformat": 4,
 "nbformat_minor": 4
}

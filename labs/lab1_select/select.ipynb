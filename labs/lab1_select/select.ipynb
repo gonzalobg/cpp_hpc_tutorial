{
 "cells": [
  {
   "cell_type": "markdown",
   "metadata": {},
   "source": [
    "Accelerating portable HPC Applications with Standard C++\n",
    "===\n",
    "\n",
    "# Lab 1: select\n",
    "\n",
    "If Lab 0 (DAXPY) was quick to complete for you, Lab 1 proposes a slightly more advanced example which requires the decomposition of a problem into multiple algorithm calls. You will use different approaches, sequential and parallel, to write a function `select` which selects some elements of an input vector `v` according to a general, user-provided criterion and copies the selected element consecutively into a new vector `w`.\n",
    "\n",
    "This problem is easy to solve sequentially but faces an issue in a concurrent run: the index of write operations into `w` depends on operations performed by other threads.\n",
    "\n",
    "## Initial condition\n",
    "\n",
    "For all the exercises, the vector `v` is filled with pseudo-random numbers that are seeded with a constant value and are therefore identical from one execution to another.\n",
    "\n"
   ]
  },
  {
   "cell_type": "markdown",
   "metadata": {},
   "source": [
    "## Exercise 0: serial implementation\n",
    "\n",
    "The goal of this first exercise is to write a version of `select` which calls the algorithm `copy_if`. It is simple an elegant, but not parallelizable.\n",
    "\n",
    "A template for the solution is provided in [exercise0.cpp]. The `TODO` indicates the part of the template that must be completed.\n",
    "A first version of `select` is provided, which looks as follows:\n",
    "\n",
    "```c++\n",
    "template<class UnaryPredicate>\n",
    "std::vector<int> select(const std::vector<int>& v, UnaryPredicate pred)\n",
    "{\n",
    "    // TODO Instead of the line below, create a vector w and use a \"copy_if\" algorithm\n",
    "    // call to copy all elements from v to w that are selected by the unary predicate.\n",
    "    auto w = v;\n",
    "    return w;\n",
    "}\n",
    "```\n",
    "\n",
    "[exercise0.cpp]: ./exercise0.cpp\n",
    "\n",
    "The example compiles and runs as provided, but it produces incorrect results due to the erroneous `select` implementation.\n",
    "Replace the erroneous line by an appropriate call to the `copy_if` algorithm.\n",
    "Hint: You can't allocate the right number of elements for `w` in advance, because you don't know how many elements the `copy_if` algorithm is going to copy. Instead, use `std::back_inserter` to create an iterator which inserts elements at the back of `w` and resizes the vector appropriately as the algorithm progresses.\n",
    "Once you fix the code, the following block should compile and run correctly:\n",
    "\n"
   ]
  },
  {
   "cell_type": "code",
   "execution_count": null,
   "metadata": {},
   "outputs": [],
   "source": [
    "!g++ -std=c++20 -Ofast -DNDEBUG -o select exercise0.cpp\n",
    "!./select 30"
   ]
  },
  {
   "cell_type": "code",
   "execution_count": null,
   "metadata": {},
   "outputs": [],
   "source": [
    "!clang++ -std=c++20 -Ofast -DNDEBUG -isystem/usr/local/range-v3/include -o select exercise0.cpp\n",
    "!./select 30"
   ]
  },
  {
   "cell_type": "code",
   "execution_count": null,
   "metadata": {},
   "outputs": [],
   "source": [
    "!nvc++ -std=c++20 -fast -DNDEBUG -o select exercise0.cpp\n",
    "!./select 30"
   ]
  },
  {
   "cell_type": "code",
   "execution_count": null,
   "metadata": {},
   "outputs": [],
   "source": [
    "#!dpcpp -std=c++20 -Ofast -DNDEBUG -isystem/usr/local/range-v3/include -o select exercise0.cpp\n",
    "#!./select 30"
   ]
  },
  {
   "cell_type": "markdown",
   "metadata": {},
   "source": [
    "### Solutions Exercise 0\n",
    "\n",
    "The solutions for each example are available in the `solutions/` sub-directory.\n",
    "\n",
    "The following compiles and runs the solutions for Exercise 0 using different compilers and C++ standard versions."
   ]
  },
  {
   "cell_type": "code",
   "execution_count": null,
   "metadata": {},
   "outputs": [],
   "source": [
    "!g++ -std=c++17 -Ofast -DNDEBUG -o select solutions/exercise0.cpp\n",
    "!./select 30"
   ]
  },
  {
   "cell_type": "code",
   "execution_count": null,
   "metadata": {},
   "outputs": [],
   "source": [
    "!clang++ -std=c++17 -Ofast -DNDEBUG -isystem/usr/local/range-v3/include -o select solutions/exercise0.cpp\n",
    "!./select 30"
   ]
  },
  {
   "cell_type": "code",
   "execution_count": null,
   "metadata": {},
   "outputs": [],
   "source": [
    "!nvc++ -std=c++20 -fast -DNDEBUG -o select solutions/exercise0.cpp\n",
    "!./select 30"
   ]
  },
  {
   "cell_type": "code",
   "execution_count": null,
   "metadata": {},
   "outputs": [],
   "source": [
    "#!dpcpp -std=c++20 -Ofast -DNDEBUG -isystem/usr/local/range-v3/include -o select solutions/exercise0.cpp\n",
    "#!./select 30"
   ]
  },
  {
   "cell_type": "markdown",
   "metadata": {},
   "source": [
    "## Exercise 1\n",
    "\n",
    "The code of exercise 0 cannot run in parallel, because the back inserter adds elements to `w` sequentially.\n",
    "Open [exercise1.cpp], look out for the `TODO` comment and correct the code by proceeding in three steps:\n",
    "1. Use `transform` to create a vector `v_sel` which has the same length as `v` and is filled with 0/1 values, depending on the result of the unary predicate applied to the corresponding element of `v`.\n",
    "2. Use `inclusive_scan` to compute the cumulative sum of `v_sel` and store the result into the vector `index`, which will provide indices of the selected elements of `v` into `w`. *Attention: with `inclusive_scan`, the indices are off by one. We wouldn't have this off-by-one error with `exclusive_scan`, but `inlusive_scan` is quite convenient here: its last element indicates the total number of selected elements, and thus, the size of elements to allocate for `w`*.\n",
    "3. Use a `for_each` statement to copy values from `v` to `w`, depending on the outcome of the unary predicate.\n",
    "\n",
    "Once the code is completed, the following blocks should complete properly and produce the same output as in exercise 0.\n",
    "\n",
    "[exercise1.cpp]: ./exercise1.cpp\n",
    "\n"
   ]
  },
  {
   "cell_type": "code",
   "execution_count": null,
   "metadata": {},
   "outputs": [],
   "source": [
    "!g++ -std=c++20 -Ofast -DNDEBUG -o select exercise1.cpp -ltbb\n",
    "!./select 30"
   ]
  },
  {
   "cell_type": "code",
   "execution_count": null,
   "metadata": {},
   "outputs": [],
   "source": [
    "!clang++ -std=c++20 -Ofast -DNDEBUG -isystem/usr/local/range-v3/include -o select exercise1.cpp\n",
    "!./select 30"
   ]
  },
  {
   "cell_type": "code",
   "execution_count": null,
   "metadata": {},
   "outputs": [],
   "source": [
    "!nvc++ -stdpar=multicore -std=c++20 -fast -DNDEBUG -o select exercise1.cpp\n",
    "!./select 30"
   ]
  },
  {
   "cell_type": "code",
   "execution_count": null,
   "metadata": {},
   "outputs": [],
   "source": [
    "!nvc++ -stdpar=gpu -std=c++20 -fast -DNDEBUG -o select exercise1.cpp\n",
    "!./select 30"
   ]
  },
  {
   "cell_type": "code",
   "execution_count": null,
   "metadata": {},
   "outputs": [],
   "source": [
    "#!dpcpp -std=c++20 -Ofast -DNDEBUG -isystem/usr/local/range-v3/include -o select exercise1.cpp\n",
    "#!./select 30"
   ]
  },
  {
   "cell_type": "markdown",
   "metadata": {},
   "source": [
    "### Solutions Exercise 1\n",
    "\n",
    "The solutions for each example are available in the `solutions/` sub-directory.\n",
    "\n",
    "The following compiles and runs the solutions for Exercise 1 using different compilers and C++ standard versions."
   ]
  },
  {
   "cell_type": "code",
   "execution_count": null,
   "metadata": {},
   "outputs": [],
   "source": [
    "!g++ -std=c++17 -Ofast -DNDEBUG -o select solutions/exercise1.cpp -ltbb\n",
    "!./select 30"
   ]
  },
  {
   "cell_type": "code",
   "execution_count": null,
   "metadata": {},
   "outputs": [],
   "source": [
    "!clang++ -std=c++17 -Ofast -DNDEBUG -isystem/usr/local/range-v3/include -o select solutions/exercise1.cpp -ltbb\n",
    "!./select 30"
   ]
  },
  {
   "cell_type": "code",
   "execution_count": null,
   "metadata": {},
   "outputs": [],
   "source": [
    "!nvc++ -stdpar=multicore -std=c++20 -fast -DNDEBUG -o select solutions/exercise1.cpp\n",
    "!./select 30"
   ]
  },
  {
   "cell_type": "code",
   "execution_count": null,
   "metadata": {},
   "outputs": [],
   "source": [
    "!nvc++ -stdpar=gpu -std=c++20 -fast -DNDEBUG -o select solutions/exercise1.cpp\n",
    "!./select 30"
   ]
  },
  {
   "cell_type": "code",
   "execution_count": null,
   "metadata": {},
   "outputs": [],
   "source": [
    "#!dpcpp -std=c++20 -Ofast -DNDEBUG -isystem/usr/local/range-v3/include -o select solutions/exercise1.cpp\n",
    "#!./select 30"
   ]
  },
  {
   "cell_type": "markdown",
   "metadata": {},
   "source": [
    "## Exercise 2\n",
    "\n",
    "In exercise 1, we decomposed the selection process in three algorithm calls to clearly illustrate the different steps involved in the parallelizable approach. But C++ offers the algorithm `transform_inclusive_scan` which combines the two first steps and avoids the need for allocating the vector `v_sel`.\n",
    "Open [exercise2.cpp], look out for the `TODO` comment and implement `select` through a parallelizable approach as before, but in two steps, using `transform_inclusive_scan`.\n",
    "\n",
    "Once the code is completed, the following blocks should complete properly and produce the same output as in exercise 0 and exercise 1.\n",
    "\n",
    "[exercise2.cpp]: ./exercise2.cpp\n",
    "\n"
   ]
  },
  {
   "cell_type": "code",
   "execution_count": null,
   "metadata": {},
   "outputs": [],
   "source": [
    "!g++ -std=c++20 -Ofast -DNDEBUG -o select exercise2.cpp -ltbb\n",
    "!./select 30"
   ]
  },
  {
   "cell_type": "code",
   "execution_count": null,
   "metadata": {},
   "outputs": [],
   "source": [
    "!clang++ -std=c++20 -Ofast -DNDEBUG -isystem/usr/local/range-v3/include -o select exercise2.cpp -ltbb\n",
    "!./select 30"
   ]
  },
  {
   "cell_type": "code",
   "execution_count": null,
   "metadata": {},
   "outputs": [],
   "source": [
    "!nvc++ -stdpar=multicore -std=c++20 -fast -DNDEBUG -o select exercise2.cpp\n",
    "!./select 30"
   ]
  },
  {
   "cell_type": "code",
   "execution_count": null,
   "metadata": {},
   "outputs": [],
   "source": [
    "!nvc++ -stdpar=gpu -std=c++20 -fast -DNDEBUG -o select exercise2.cpp\n",
    "!./select 30"
   ]
  },
  {
   "cell_type": "code",
   "execution_count": null,
   "metadata": {},
   "outputs": [],
   "source": [
    "#!dpcpp -std=c++20 -Ofast -DNDEBUG -isystem/usr/local/range-v3/include -o select exercise2.cpp\n",
    "#!./select 30"
   ]
  },
  {
   "cell_type": "markdown",
   "metadata": {},
   "source": [
    "### Solutions Exercise 2\n",
    "\n",
    "The solutions for each example are available in the `solutions/` sub-directory.\n",
    "\n",
    "The following compiles and runs the solutions for Exercise 1 using different compilers and C++ standard versions."
   ]
  },
  {
   "cell_type": "code",
   "execution_count": null,
   "metadata": {},
   "outputs": [],
   "source": [
    "!g++ -std=c++17 -Ofast -DNDEBUG -o select solutions/exercise2.cpp -ltbb\n",
    "!./select 30"
   ]
  },
  {
   "cell_type": "code",
   "execution_count": null,
   "metadata": {},
   "outputs": [],
   "source": [
    "!clang++ -std=c++17 -Ofast -DNDEBUG -isystem/usr/local/range-v3/include -o select solutions/exercise2.cpp -ltbb\n",
    "!./select 30"
   ]
  },
  {
   "cell_type": "code",
   "execution_count": null,
   "metadata": {},
   "outputs": [],
   "source": [
    "!nvc++ -stdpar=multicore -std=c++20 -fast -DNDEBUG -o select solutions/exercise2.cpp\n",
    "!./select 30"
   ]
  },
  {
   "cell_type": "code",
   "execution_count": null,
   "metadata": {},
   "outputs": [],
   "source": [
    "!nvc++ -stdpar=gpu -std=c++20 -fast -DNDEBUG -o select solutions/exercise2.cpp\n",
    "!./select 30"
   ]
  },
  {
   "cell_type": "code",
   "execution_count": null,
   "metadata": {},
   "outputs": [],
   "source": [
    "#!dpcpp -std=c++20 -Ofast -DNDEBUG -isystem/usr/local/range-v3/include -o select solutions/exercise2.cpp\n",
    "#!./select 30"
   ]
  }
 ],
 "metadata": {
  "kernelspec": {
   "display_name": "Python 3 (ipykernel)",
   "language": "python",
   "name": "python3"
  },
  "language_info": {
   "codemirror_mode": {
    "name": "ipython",
    "version": 3
   },
   "file_extension": ".py",
   "mimetype": "text/x-python",
   "name": "python",
   "nbconvert_exporter": "python",
   "pygments_lexer": "ipython3",
   "version": "3.8.10"
  }
 },
 "nbformat": 4,
 "nbformat_minor": 4
}

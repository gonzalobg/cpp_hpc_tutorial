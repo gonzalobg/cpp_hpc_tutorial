{
 "cells": [
  {
   "cell_type": "markdown",
   "metadata": {},
   "source": [
    "Accelerating portable HPC Applications with Standard C++\n",
    "===\n",
    "\n",
    "## Learning Objectives\n",
    "\n",
    "This half-day hands-on tutorial teaches how to accelerate portable HPC applications with CPUs and GPUs using the parallelism and concurrency features of the C++17 and C++20 standards. Attendees will accelerate a canonical PDE solver for the unsteady heat equation from a single threaded implementation to a multi-CPU/multi-GPU implementation that overlaps computation with communication. Along the way, they will learn about C++ concurrency features like threads, atomics, barriers, and parallel algorithms. The tutorial teaches how to integrate these features into hybrid HPC applications using MPI. Finally, we conclude with an outlook of C++2x features that simplify overlapping communication and computation, and a summary of our experience applying ISO C++ as the programming model to accelerate large real-world HPC applications.\n",
    "\n",
    "### Outline\n",
    "\n",
    "This tutorial contains three hands-on labs:\n",
    "\n",
    "- Lab 1:\n",
    "  - [DAXPY]: Fundamentals of C++ parallel algorithms (beginner).\n",
    "  - [Select]: Solving a composite problem with algorithms (beginner).\n",
    "- [Lab 2: 2D Heat Equation]: Mini-application: integrating parallel algorithms with threads, atomics, and MPI (intermediate).\n",
    "- [Lab 3: Parallel Tree Construction]: Mini-application: starvation-free concurrent algorithms (advanced).\n",
    "\n",
    "[DAXPY]: lab1_daxpy/daxpy.ipynb\n",
    "[Select]: lab1_select/select.ipynb\n",
    "[Lab 2: 2D Heat Equation]: lab2_heat/heat.ipynb\n",
    "[Lab 3: Parallel Tree Construction]: lab3_tree/tree.ipynb\n",
    "\n",
    "## Audience, Content Level, Prerequisites, and Duration\n",
    "\n",
    "This half-day tutorial is relevant for those interested in parallel programming models, the C++ programming language, performance portability and heterogeneous systems. \n",
    "\n",
    "The content is structured into three topics, and progressesn from beginner to intermediate to advanced.\n",
    "\n",
    "Beginner-level experience with C++11, C++ lambdas, and MPI is required.\n",
    "\n",
    "## Getting started\n",
    "\n",
    "Let's start by testing the CUDA Driver and GPU you are running the code on in this lab.\n",
    "Run the following cells by selecting them and pressing `CTRL+ENTER`:"
   ]
  },
  {
   "cell_type": "code",
   "execution_count": null,
   "metadata": {},
   "outputs": [],
   "source": [
    "!nvidia-smi"
   ]
  },
  {
   "cell_type": "markdown",
   "metadata": {},
   "source": [
    "and the CPUs on the system:"
   ]
  },
  {
   "cell_type": "code",
   "execution_count": null,
   "metadata": {},
   "outputs": [],
   "source": [
    "!lscpu"
   ]
  },
  {
   "cell_type": "markdown",
   "metadata": {},
   "source": [
    "--- \n",
    "\n",
    "## Licensing \n",
    "\n",
    "This material is provided under the MIT License:\n",
    "\n",
    "```\n",
    "SPDX-FileCopyrightText: Copyright (c) 2022 NVIDIA CORPORATION & AFFILIATES. All rights reserved.\n",
    "SPDX-License-Identifier: MIT\n",
    "\n",
    "Permission is hereby granted, free of charge, to any person obtaining a\n",
    "copy of this software and associated documentation files (the \"Software\"),\n",
    "to deal in the Software without restriction, including without limitation\n",
    "the rights to use, copy, modify, merge, publish, distribute, sublicense,\n",
    "and/or sell copies of the Software, and to permit persons to whom the\n",
    "Software is furnished to do so, subject to the following conditions:\n",
    "\n",
    "The above copyright notice and this permission notice shall be included in\n",
    "all copies or substantial portions of the Software.\n",
    "\n",
    "THE SOFTWARE IS PROVIDED \"AS IS\", WITHOUT WARRANTY OF ANY KIND, EXPRESS OR\n",
    "IMPLIED, INCLUDING BUT NOT LIMITED TO THE WARRANTIES OF MERCHANTABILITY,\n",
    "FITNESS FOR A PARTICULAR PURPOSE AND NONINFRINGEMENT. IN NO EVENT SHALL\n",
    "THE AUTHORS OR COPYRIGHT HOLDERS BE LIABLE FOR ANY CLAIM, DAMAGES OR OTHER\n",
    "LIABILITY, WHETHER IN AN ACTION OF CONTRACT, TORT OR OTHERWISE, ARISING\n",
    "FROM, OUT OF OR IN CONNECTION WITH THE SOFTWARE OR THE USE OR OTHER\n",
    "DEALINGS IN THE SOFTWARE.\n",
    "```"
   ]
  }
 ],
 "metadata": {
  "kernelspec": {
   "display_name": "Python 3 (ipykernel)",
   "language": "python",
   "name": "python3"
  },
  "language_info": {
   "codemirror_mode": {
    "name": "ipython",
    "version": 3
   },
   "file_extension": ".py",
   "mimetype": "text/x-python",
   "name": "python",
   "nbconvert_exporter": "python",
   "pygments_lexer": "ipython3",
   "version": "3.8.10"
  }
 },
 "nbformat": 4,
 "nbformat_minor": 4
}

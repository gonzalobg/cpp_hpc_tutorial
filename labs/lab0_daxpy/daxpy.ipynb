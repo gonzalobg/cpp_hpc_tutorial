{
 "cells": [
  {
   "cell_type": "markdown",
   "metadata": {},
   "source": [
    "Accelerating portable HPC Applications with Standard C++\n",
    "===\n",
    "\n",
    "# Lab 0: DAXPY\n",
    "\n",
    "In this tutorial we will familiarize ourselves with the C++ parallel algorithms and related features by implementing Double-precision AX Plus Y (DAXPY): $A \\cdot X + Y$, one of the main functions in the standard Basic Linear Algebra Subroutines (BLAS) library.\n",
    "\n",
    "The operation is a combination of scalar multiplication and vector adition. It takes two vectors of 64-bit floats, `x` and `y` and a scalar value `a`.\n",
    "It multiplies each element `x[i]` by `a` and adds the result to `y[i]`.\n",
    "\n",
    "A working implementation is provided in [starting_point.cpp].\n",
    "Please take 2-3 minutes to skim through it.\n",
    "\n",
    "## Validating solutions\n",
    "\n",
    "For all the exercises, we assume that initially the values are `x[i] = i` and `y[i] = 2`.\n",
    "The `check` function then verifies the effect of applying `daxpy` to these two vectors.\n",
    "\n",
    "We will run this check always once\n",
    "\n",
    "## Sequential implementation\n",
    "\n",
    "The \"core\" of the sequential implementation provided in [starting_point.cpp] is split into two separate functions:\n",
    "\n",
    "\n",
    "```c++\n",
    "/// Initializes the vectors `x` and `y`\n",
    "void initialize(std::vector<double> &x, std::vector<double> &y) {\n",
    "  assert(x.size() == y.size());\n",
    "  for (std::size_t i = 0; i < x.size(); ++i) {\n",
    "    x[i] = (double)i;\n",
    "    y[i] = 2.;\n",
    "  }\n",
    "}\n",
    "\n",
    "/// DAXPY: AX + Y\n",
    "void daxpy(double a, std::vector<double> const &x, std::vector<double> &y) {\n",
    "  assert(x.size() == y.size());\n",
    "  for (std::size_t i = 0; i < y.size(); ++i) {\n",
    "    y[i] += a * x[i];\n",
    "  }\n",
    "}\n",
    "```\n",
    "\n",
    "We initialize the vectors to the `x[i] = i` and `y[i] = 2.` expressions covered above for testing purposes.\n",
    "\n",
    "The `daxpy` function implements a loop over all vector elements, reading from both `x` and `y` and writing the solution to `y`.\n",
    "\n",
    "[starting_point.cpp]: ./starting_point.cpp\n",
    "\n",
    "## Getting started\n",
    "\n",
    "Let's start by checking the version of some of the compilers installed in the image:\n"
   ]
  },
  {
   "cell_type": "code",
   "execution_count": 1,
   "metadata": {},
   "outputs": [
    {
     "name": "stdout",
     "output_type": "stream",
     "text": [
      "g++ (Ubuntu 11.1.0-1ubuntu1~20.04) 11.1.0\n",
      "Copyright (C) 2021 Free Software Foundation, Inc.\n",
      "This is free software; see the source for copying conditions.  There is NO\n",
      "warranty; not even for MERCHANTABILITY or FITNESS FOR A PARTICULAR PURPOSE.\n",
      "\n",
      "Ubuntu clang version 15.0.0-++20220418052932+e0736e742922-1~exp1~20220418173019.225\n",
      "Target: x86_64-pc-linux-gnu\n",
      "Thread model: posix\n",
      "InstalledDir: /usr/bin\n",
      "\n",
      "nvc++ 22.3-0 64-bit target on x86-64 Linux -tp zen2 \n",
      "NVIDIA Compilers and Tools\n",
      "Copyright (c) 2022, NVIDIA CORPORATION & AFFILIATES.  All rights reserved.\n",
      "Intel(R) oneAPI DPC++/C++ Compiler 2022.0.0 (2022.0.0.20211123)\n",
      "Target: x86_64-unknown-linux-gnu\n",
      "Thread model: posix\n",
      "InstalledDir: /opt/intel/oneapi/compiler/2022.0.2/linux/bin-llvm\n"
     ]
    }
   ],
   "source": [
    "!g++ --version\n",
    "!clang++ --version\n",
    "!nvc++ --version\n",
    "!dpcpp --version"
   ]
  },
  {
   "cell_type": "markdown",
   "metadata": {},
   "source": [
    "---\n",
    "\n",
    "Now let's compile and run the starting point:"
   ]
  },
  {
   "cell_type": "code",
   "execution_count": null,
   "metadata": {},
   "outputs": [],
   "source": [
    "!g++ -std=c++11 -o daxpy starting_point.cpp\n",
    "!./daxpy 1000000"
   ]
  },
  {
   "cell_type": "markdown",
   "metadata": {},
   "source": [
    "Here the `-std=c++11` controls the C++ language version.\n",
    "\n",
    "Let's try again with optimizations using `-Ofast` and `-DNDEBUG` (to remove debug checks):"
   ]
  },
  {
   "cell_type": "code",
   "execution_count": null,
   "metadata": {},
   "outputs": [],
   "source": [
    "!g++ -std=c++11 -Ofast -DNDEBUG -o daxpy starting_point.cpp\n",
    "!./daxpy 10000000"
   ]
  },
  {
   "cell_type": "markdown",
   "metadata": {},
   "source": [
    "## Exercise 0: from raw DAXPY loop to serial C++ algorithm\n",
    "\n",
    "The goal of this first exercise is to re-write the raw DAXPY loop using the C++ standard library algorithms:\n",
    "\n",
    "A template for the solution is provided in [exercise0.cpp]. The `TODO`s indicate the parts of the template that must be completed.\n",
    "To complete this first exercise, the `daxpy` function needs to be rewritten to use the C++ standatd library algorithms and this will require adding some headers:\n",
    "\n",
    "```c++\n",
    "#include <chrono>\n",
    "// TODO: add some headers here\n",
    "\n",
    "void daxpy(double a, std::vector<double> const &x, std::vector<double> &y) {\n",
    "  assert(x.size() == y.size());\n",
    "  // TODO: Implement using the C++ Standard Template Library algorithms\n",
    "  // ...\n",
    "}\n",
    "```\n",
    "\n",
    "[exercise0.cpp]: ./exercise0.cpp\n",
    "\n",
    "The example compiles and runs as provided, but it produces incorrect results due to the incomplete `daxpy` implementation.\n",
    "Once you fix it, the following block should compile and run correctly:\n"
   ]
  },
  {
   "cell_type": "code",
   "execution_count": null,
   "metadata": {},
   "outputs": [],
   "source": [
    "!g++ -std=c++20 -Ofast -DNDEBUG -o daxpy exercise0.cpp\n",
    "!./daxpy 1000000"
   ]
  },
  {
   "cell_type": "code",
   "execution_count": null,
   "metadata": {},
   "outputs": [],
   "source": [
    "!clang++ -std=c++20 -Ofast -DNDEBUG -o daxpy exercise0.cpp\n",
    "!./daxpy 1000000"
   ]
  },
  {
   "cell_type": "code",
   "execution_count": null,
   "metadata": {},
   "outputs": [],
   "source": [
    "!nvc++ -std=c++20 -fast -DNDEBUG -o daxpy exercise0.cpp\n",
    "!./daxpy 1000000"
   ]
  },
  {
   "cell_type": "code",
   "execution_count": 2,
   "metadata": {},
   "outputs": [
    {
     "name": "stdout",
     "output_type": "stream",
     "text": [
      "ERROR!\n"
     ]
    }
   ],
   "source": [
    "!dpcpp -std=c++20 -Ofast -DNDEBUG -o daxpy exercise0.cpp\n",
    "!./daxpy 1000000"
   ]
  },
  {
   "cell_type": "markdown",
   "metadata": {},
   "source": [
    "### Solutions Exercise 0\n",
    "\n",
    "The solutions for each example are available in the `solutions/` sub-directory.\n",
    "\n",
    "The following compiles and runs the solutions for Exercise 0 using different compilers and C++ standard versions."
   ]
  },
  {
   "cell_type": "code",
   "execution_count": null,
   "metadata": {},
   "outputs": [],
   "source": [
    "!g++ -std=c++17 -Ofast -DNDEBUG -o daxpy solutions/exercise0.cpp\n",
    "!./daxpy 1000000"
   ]
  },
  {
   "cell_type": "code",
   "execution_count": 6,
   "metadata": {},
   "outputs": [
    {
     "name": "stdout",
     "output_type": "stream",
     "text": [
      "OK!\n",
      "Bandwidth [GB/s]: 31.9783\n"
     ]
    }
   ],
   "source": [
    "!clang++ -std=c++17 -Ofast -DNDEBUG -o daxpy solutions/exercise0.cpp\n",
    "!./daxpy 1000000"
   ]
  },
  {
   "cell_type": "code",
   "execution_count": 4,
   "metadata": {},
   "outputs": [
    {
     "name": "stdout",
     "output_type": "stream",
     "text": [
      "OK!\n",
      "Bandwidth [GB/s]: 27.5983\n"
     ]
    }
   ],
   "source": [
    "!nvc++ -std=c++17 -fast -DNDEBUG -o daxpy solutions/exercise0.cpp\n",
    "!./daxpy 1000000"
   ]
  },
  {
   "cell_type": "code",
   "execution_count": 5,
   "metadata": {},
   "outputs": [
    {
     "name": "stdout",
     "output_type": "stream",
     "text": [
      "OK!\n",
      "Bandwidth [GB/s]: 31.7483\n"
     ]
    }
   ],
   "source": [
    "!dpcpp -std=c++20 -Ofast -DNDEBUG -o daxpy solutions/exercise0.cpp\n",
    "!./daxpy 1000000"
   ]
  },
  {
   "cell_type": "markdown",
   "metadata": {},
   "source": [
    "# Exercise 1\n",
    "\n",
    "Later in this tutorial we will move towards running `daxpy` on an accelerator device like a GPU.\n",
    "Then it becomes important to keep the memory from unnecessarily being accessed by different devices.\n",
    "\n",
    "The goal of this exercise is to re-write the initialization function using the C++ standard library algorithms, so that we can later perform the initialization on the device itself.\n",
    "\n",
    "A template for the solution is provided in [exercise1.cpp]. If you have completed Exercise 0, it is no longer necessary to modify the includes much.\n",
    "\n",
    "However, for the reasons mentioned in the presentation about \"Indexing, Ranges and Views\", we will be using range-v3 as a fallback for some compilers like clang, and we modify the includes as follows:\n",
    "\n",
    "```c++\n",
    "#include <algorithm>\n",
    "#if defined(__clang__)\n",
    "  // clang does not support libstdc++ ranges\n",
    "  #include <range/v3/all.hpp>\n",
    "  namespace views = ranges::views;\n",
    "#elif __cplusplus >= 202002L\n",
    "  #include <ranges>\n",
    "  namespace views = std::views;\n",
    "  namespace ranges = std::ranges;\n",
    "#endif\n",
    "```\n",
    "\n",
    "Notice that in the compiler invocation below for `clang++` we will be including the range-v3 library as a system library using `-isystem/usr/local/range-v3/include`.\n",
    "\n",
    "The core of the exercise consists in implementing the `initialize` function using the \"indexing\" techniques discussed in the presentation:\n",
    "\n",
    "```c++\n",
    "void initialize(std::vector<double> &x, std::vector<double> &y) {\n",
    "  assert(x.size() == y.size());\n",
    "  // TODO: Implement using the C++ Standard Template Library algorithms\n",
    "  // ...\n",
    "}\n",
    "```\n",
    "\n",
    "[exercise1.cpp]: ./exercise1.cpp"
   ]
  },
  {
   "cell_type": "code",
   "execution_count": null,
   "metadata": {},
   "outputs": [],
   "source": [
    "!g++ -std=c++20 -Ofast -DNDEBUG -o daxpy exercise1.cpp\n",
    "!./daxpy 1000000"
   ]
  },
  {
   "cell_type": "code",
   "execution_count": null,
   "metadata": {},
   "outputs": [],
   "source": [
    "!clang++ -std=c++20 -Ofast -DNDEBUG -isystem/usr/local/range-v3/include -o daxpy exercise1.cpp\n",
    "!./daxpy 1000000"
   ]
  },
  {
   "cell_type": "code",
   "execution_count": null,
   "metadata": {},
   "outputs": [],
   "source": [
    "!nvc++ -std=c++20 -fast -DNDEBUG -o daxpy exercise1.cpp\n",
    "!./daxpy 1000000"
   ]
  },
  {
   "cell_type": "code",
   "execution_count": 8,
   "metadata": {},
   "outputs": [
    {
     "name": "stdout",
     "output_type": "stream",
     "text": [
      "ERROR!\n"
     ]
    }
   ],
   "source": [
    "!dpcpp -std=c++20 -Ofast -DNDEBUG -isystem/usr/local/range-v3/include -o daxpy exercise1.cpp\n",
    "!./daxpy 1000000"
   ]
  },
  {
   "cell_type": "markdown",
   "metadata": {},
   "source": [
    "### Solutions Exercise 1\n",
    "\n",
    "There are two solutions provided showing different ways of doing indexing:"
   ]
  },
  {
   "cell_type": "code",
   "execution_count": null,
   "metadata": {},
   "outputs": [],
   "source": [
    "# Using iota range for initialize \n",
    "!g++ -std=c++17 -Ofast -DNDEBUG -o daxpy solutions/exercise1.cpp\n",
    "!./daxpy 1000000"
   ]
  },
  {
   "cell_type": "code",
   "execution_count": null,
   "metadata": {},
   "outputs": [],
   "source": [
    "!clang++ -std=c++17 -Ofast -DNDEBUG -isystem/usr/local/range-v3/include -o daxpy solutions/exercise1.cpp\n",
    "!./daxpy 1000000"
   ]
  },
  {
   "cell_type": "code",
   "execution_count": null,
   "metadata": {},
   "outputs": [],
   "source": [
    "!nvc++ -std=c++17 -fast -DNDEBUG -o daxpy solutions/exercise1.cpp\n",
    "!./daxpy 1000000"
   ]
  },
  {
   "cell_type": "code",
   "execution_count": 10,
   "metadata": {},
   "outputs": [
    {
     "name": "stdout",
     "output_type": "stream",
     "text": [
      "OK!\n",
      "Bandwidth [GB/s]: 32.3219\n"
     ]
    }
   ],
   "source": [
    "!dpcpp -std=c++17 -Ofast -DNDEBUG -isystem/usr/local/range-v3/include -o daxpy solutions/exercise1.cpp\n",
    "!./daxpy 1000000"
   ]
  },
  {
   "cell_type": "code",
   "execution_count": null,
   "metadata": {},
   "outputs": [],
   "source": [
    "# Using address-based indexing for daxpy\n",
    "!g++ -std=c++17 -Ofast -DNDEBUG -o daxpy solutions/exercise1_indices.cpp\n",
    "!./daxpy 1000000"
   ]
  },
  {
   "cell_type": "code",
   "execution_count": null,
   "metadata": {},
   "outputs": [],
   "source": [
    "!clang++ -std=c++17 -Ofast -DNDEBUG -isystem/usr/local/range-v3/include -o daxpy solutions/exercise1_indices.cpp\n",
    "!./daxpy 1000000"
   ]
  },
  {
   "cell_type": "code",
   "execution_count": null,
   "metadata": {},
   "outputs": [],
   "source": [
    "!nvc++ -std=c++17 -fast -DNDEBUG -o daxpy solutions/exercise1_indices.cpp\n",
    "!./daxpy 1000000"
   ]
  },
  {
   "cell_type": "code",
   "execution_count": 11,
   "metadata": {},
   "outputs": [
    {
     "name": "stdout",
     "output_type": "stream",
     "text": [
      "OK!\n",
      "Bandwidth [GB/s]: 26.1595\n"
     ]
    }
   ],
   "source": [
    "!dpcpp -std=c++17 -Ofast -DNDEBUG -isystem/usr/local/range-v3/include -o daxpy solutions/exercise1_indices.cpp\n",
    "!./daxpy 1000000"
   ]
  },
  {
   "cell_type": "markdown",
   "metadata": {},
   "source": [
    "## Exercise 2: parallelizing DAXPY using C++ parallel algorithms\n",
    "\n",
    "The goal of this final exercise in this section is to parallelize the `initialize` and `daxpy` functions to compute the results in parallel using CPUs or GPUs.\n",
    "\n",
    "A template for the solution is provided in [exercise2.cpp].\n",
    "\n",
    "```c++\n",
    "#include <algorithm>\n",
    "// TODO: add C++ standard library includes as necessary\n",
    "\n",
    "void initialize(std::vector<double> &x, std::vector<double> &y) {\n",
    "  assert(x.size() == y.size());\n",
    "  // TODO: Implement using the C++ Standard Template Library parallel algorithms\n",
    "  // ...\n",
    "}\n",
    "\n",
    "void daxpy(double a, std::vector<double> const &x, std::vector<double> &y) {\n",
    "  assert(x.size() == y.size());\n",
    "  // TODO: Implement using the C++ Standard Template Library parallel algorithms\n",
    "  // ...\n",
    "}\n",
    "```\n",
    "\n",
    "[exercise2.cpp]: ./exercise2.cpp\n",
    "\n",
    "Compiling for support for parallel algorithms is slightly more tricky.\n",
    "\n",
    "There are different implementations of the C++ standard library:\n",
    "\n",
    "* `libstdc++`: GNU toolchain implementation, default on most Linux distributions\n",
    "* `libc++`: LLVM/clang toolchain implementation, default on MacOS\n",
    "* `libnv++`: NVIDIA HPC SDK implementation\n",
    "* etc.\n",
    "\n",
    "From the above ones, `libc++` does not implement the C++17 parallel algorithms yet, but on Linux clang uses `libstdc++` by default, so that's ok.\n",
    "However `clang++` does not support using `libstdc++` with C++20 mode, so we will restrict ourselves to C++17 when using clang for now.\n",
    "\n",
    "To enable the parallel algorithms in the different standard libraries:\n",
    "\n",
    "* `libstdc++`:\n",
    "    * requires `-std=c++17` or newer\n",
    "    * requires Intel TBB to be:\n",
    "        * in the include path\n",
    "        * linked against the final binary using `-ltbb`\n",
    "* `nvc++`:\n",
    "    * requires `-std=c++17` or newer\n",
    "    * requires `-stdpar` flag\n",
    "        * `-stdpar=multicore` runs parallel algorithms on CPUs\n",
    "        * `-stdpar=gpu` runs parallel algorithms on GPUs, further `-gpu=` flags control the GPU target\n",
    "        * See the [Parallel Algorithms Documentation](https://docs.nvidia.com/hpc-sdk/compilers/c++-parallel-algorithms/index.html). Notice that when using `-stdpar=gpu` further restrictions apply.\n",
    "    \n",
    "\n",
    "* `g++` (GCC): requires `-std=c++17` or newer, the Intel TBB library must be on the include path, and the binary must be linked against it using `-ltbb`\n",
    "* `clang++` (LLVM): needs to use the GCC C++ standard library, libstdc++, since LLVM's C++ standard library (libc++) does not support parallel algorithms yet. When using `libstdc++`, same as for GCC applies. Unfortunately, clang does not support using libstdc++ with C++20, so C++17 must be used instead. To use clang with ranges, include the `range-v3` library using `-isystem/usr/local/include`.\n",
    "* `nvc++` (NVIDIA): requires `-std=c++17` or newer, `-stdpar=gpu` or `-stdpar=multicore` control which device runs the parallel algorithms.\n",
    "\n",
    "Examples: "
   ]
  },
  {
   "cell_type": "code",
   "execution_count": 37,
   "metadata": {},
   "outputs": [
    {
     "name": "stdout",
     "output_type": "stream",
     "text": [
      "ERROR!\n"
     ]
    }
   ],
   "source": [
    "!g++ -std=c++20 -Ofast -DNDEBUG -o daxpy exercise2.cpp -ltbb\n",
    "!./daxpy 100000000"
   ]
  },
  {
   "cell_type": "markdown",
   "metadata": {},
   "source": [
    "### Solutions for Exercise 2"
   ]
  },
  {
   "cell_type": "code",
   "execution_count": null,
   "metadata": {},
   "outputs": [],
   "source": [
    "!g++ -std=c++20 -Ofast -DNDEBUG -o daxpy solutions/exercise2.cpp -ltbb\n",
    "!./daxpy 100000000"
   ]
  },
  {
   "cell_type": "code",
   "execution_count": null,
   "metadata": {},
   "outputs": [],
   "source": [
    "!clang++ -std=c++17 -Ofast -DNDEBUG -isystem/usr/local/range-v3/include -o daxpy solutions/exercise2.cpp -ltbb\n",
    "!./daxpy 100000000"
   ]
  },
  {
   "cell_type": "code",
   "execution_count": null,
   "metadata": {},
   "outputs": [],
   "source": [
    "!nvc++ -stdpar=multicore -std=c++17 -fast -Mllvm-fast -DNDEBUG -o daxpy solutions/exercise2.cpp\n",
    "!./daxpy 100000000"
   ]
  },
  {
   "cell_type": "code",
   "execution_count": null,
   "metadata": {},
   "outputs": [],
   "source": [
    "!nvc++ -stdpar=gpu -std=c++20 -fast -Mllvm-fast -DNDEBUG -gpu=cc80 -o daxpy solutions/exercise2.cpp\n",
    "!./daxpy 100000000"
   ]
  },
  {
   "cell_type": "code",
   "execution_count": 36,
   "metadata": {},
   "outputs": [
    {
     "name": "stdout",
     "output_type": "stream",
     "text": [
      "/usr/bin/ld: /tmp/exercise2-4ba927.o: in function `main':\n",
      "exercise2-451e19.cpp:(.text+0x293): undefined reference to `tbb::detail::r1::isolate_within_arena(tbb::detail::d1::delegate_base&, long)'\n",
      "/usr/bin/ld: exercise2-451e19.cpp:(.text+0x462): undefined reference to `tbb::detail::r1::isolate_within_arena(tbb::detail::d1::delegate_base&, long)'\n",
      "/usr/bin/ld: exercise2-451e19.cpp:(.text+0x4c0): undefined reference to `tbb::detail::r1::isolate_within_arena(tbb::detail::d1::delegate_base&, long)'\n",
      "/usr/bin/ld: /tmp/exercise2-4ba927.o: in function `initialize(std::vector<double, std::allocator<double> >&, std::vector<double, std::allocator<double> >&)':\n",
      "exercise2-451e19.cpp:(.text+0x755): undefined reference to `tbb::detail::r1::isolate_within_arena(tbb::detail::d1::delegate_base&, long)'\n",
      "/usr/bin/ld: exercise2-451e19.cpp:(.text+0x790): undefined reference to `tbb::detail::r1::isolate_within_arena(tbb::detail::d1::delegate_base&, long)'\n",
      "/usr/bin/ld: /tmp/exercise2-4ba927.o:exercise2-451e19.cpp:(.text+0x84b): more undefined references to `tbb::detail::r1::isolate_within_arena(tbb::detail::d1::delegate_base&, long)' follow\n",
      "/usr/bin/ld: /tmp/exercise2-4ba927.o: in function `_ZNK3tbb6detail2d119task_arena_functionIZN6oneapi3dpl13__tbb_backend14__parallel_forIRKNS4_9execution2v127parallel_unsequenced_policyEN9__gnu_cxx17__normal_iteratorIPdSt6vectorIdSaIdEEEEZZNS4_10__internal15__pattern_walk2ISB_SI_SI_NSJ_17__invoke_unary_opIZ10initializeRSH_SM_EUlRKdE_EESt17integral_constantIbLb1EEEENSt9enable_ifIXaasr6oneapi3dpl10__internal26__is_host_execution_policyINSt5decayIT_E4typeEEE5valuesr27__is_random_access_iteratorIT0_T1_EE5valueESZ_E4typeEOSV_SY_SY_SZ_T2_T3_SS_ENKUlvE_clEvEUlSI_SI_E_EEvS12_SY_SY_SZ_EUlvE_vEclEv':\n",
      "exercise2-451e19.cpp:(.text+0x9ca): undefined reference to `tbb::detail::r1::initialize(tbb::detail::d1::task_group_context&)'\n",
      "/usr/bin/ld: exercise2-451e19.cpp:(.text+0x9eb): undefined reference to `tbb::detail::r1::allocate(tbb::detail::d1::small_object_pool*&, unsigned long)'\n",
      "/usr/bin/ld: exercise2-451e19.cpp:(.text+0xa35): undefined reference to `tbb::detail::r1::max_concurrency(tbb::detail::d1::task_arena_base const*)'\n",
      "/usr/bin/ld: exercise2-451e19.cpp:(.text+0xaa6): undefined reference to `tbb::detail::r1::execute_and_wait(tbb::detail::d1::task&, tbb::detail::d1::task_group_context&, tbb::detail::d1::wait_context&, tbb::detail::d1::task_group_context&)'\n",
      "/usr/bin/ld: exercise2-451e19.cpp:(.text+0xab0): undefined reference to `tbb::detail::r1::destroy(tbb::detail::d1::task_group_context&)'\n",
      "/usr/bin/ld: exercise2-451e19.cpp:(.text+0xad4): undefined reference to `tbb::detail::r1::destroy(tbb::detail::d1::task_group_context&)'\n",
      "/usr/bin/ld: /tmp/exercise2-4ba927.o: in function `_ZN3tbb6detail2d19start_forINS1_13blocked_rangeIN9__gnu_cxx17__normal_iteratorIPdSt6vectorIdSaIdEEEEEEN6oneapi3dpl13__tbb_backend19__parallel_for_bodyISA_ZZNSD_10__internal15__pattern_walk2IRKNSD_9execution2v127parallel_unsequenced_policyESA_SA_NSG_17__invoke_unary_opIZ10initializeRS9_SO_EUlRKdE_EESt17integral_constantIbLb1EEEENSt9enable_ifIXaasr6oneapi3dpl10__internal26__is_host_execution_policyINSt5decayIT_E4typeEEE5valuesr27__is_random_access_iteratorIT0_T1_EE5valueES11_E4typeEOSX_S10_S10_S11_T2_T3_SU_ENKUlvE_clEvEUlSA_SA_E_EEKNS1_16auto_partitionerEE7executeERNS1_14execution_dataE':\n",
      "exercise2-451e19.cpp:(.text+0xb35): undefined reference to `tbb::detail::r1::execution_slot(tbb::detail::d1::execution_data const*)'\n",
      "/usr/bin/ld: exercise2-451e19.cpp:(.text+0xb42): undefined reference to `tbb::detail::r1::execution_slot(tbb::detail::d1::execution_data const*)'\n",
      "/usr/bin/ld: exercise2-451e19.cpp:(.text+0xb61): undefined reference to `tbb::detail::r1::execution_slot(tbb::detail::d1::execution_data const*)'\n",
      "/usr/bin/ld: exercise2-451e19.cpp:(.text+0xc25): undefined reference to `tbb::detail::r1::allocate(tbb::detail::d1::small_object_pool*&, unsigned long, tbb::detail::d1::execution_data const&)'\n",
      "/usr/bin/ld: exercise2-451e19.cpp:(.text+0xce7): undefined reference to `tbb::detail::r1::allocate(tbb::detail::d1::small_object_pool*&, unsigned long, tbb::detail::d1::execution_data const&)'\n",
      "/usr/bin/ld: exercise2-451e19.cpp:(.text+0xd17): undefined reference to `tbb::detail::r1::spawn(tbb::detail::d1::task&, tbb::detail::d1::task_group_context&)'\n",
      "/usr/bin/ld: exercise2-451e19.cpp:(.text+0xf93): undefined reference to `tbb::detail::r1::allocate(tbb::detail::d1::small_object_pool*&, unsigned long, tbb::detail::d1::execution_data const&)'\n",
      "/usr/bin/ld: exercise2-451e19.cpp:(.text+0x1044): undefined reference to `tbb::detail::r1::allocate(tbb::detail::d1::small_object_pool*&, unsigned long, tbb::detail::d1::execution_data const&)'\n",
      "/usr/bin/ld: exercise2-451e19.cpp:(.text+0x107d): undefined reference to `tbb::detail::r1::spawn(tbb::detail::d1::task&, tbb::detail::d1::task_group_context&)'\n",
      "/usr/bin/ld: exercise2-451e19.cpp:(.text+0x12c7): undefined reference to `tbb::detail::r1::is_group_execution_cancelled(tbb::detail::d1::task_group_context&)'\n",
      "/usr/bin/ld: exercise2-451e19.cpp:(.text+0x1569): undefined reference to `tbb::detail::r1::deallocate(tbb::detail::d1::small_object_pool&, void*, unsigned long, tbb::detail::d1::execution_data const&)'\n",
      "/usr/bin/ld: exercise2-451e19.cpp:(.text+0x1590): undefined reference to `tbb::detail::r1::deallocate(tbb::detail::d1::small_object_pool&, void*, unsigned long, tbb::detail::d1::execution_data const&)'\n",
      "/usr/bin/ld: exercise2-451e19.cpp:(.text+0x15b8): undefined reference to `tbb::detail::r1::notify_waiters(unsigned long)'\n",
      "/usr/bin/ld: /tmp/exercise2-4ba927.o: in function `_ZN3tbb6detail2d19start_forINS1_13blocked_rangeIN9__gnu_cxx17__normal_iteratorIPdSt6vectorIdSaIdEEEEEEN6oneapi3dpl13__tbb_backend19__parallel_for_bodyISA_ZZNSD_10__internal15__pattern_walk2IRKNSD_9execution2v127parallel_unsequenced_policyESA_SA_NSG_17__invoke_unary_opIZ10initializeRS9_SO_EUlRKdE_EESt17integral_constantIbLb1EEEENSt9enable_ifIXaasr6oneapi3dpl10__internal26__is_host_execution_policyINSt5decayIT_E4typeEEE5valuesr27__is_random_access_iteratorIT0_T1_EE5valueES11_E4typeEOSX_S10_S10_S11_T2_T3_SU_ENKUlvE_clEvEUlSA_SA_E_EEKNS1_16auto_partitionerEE6cancelERNS1_14execution_dataE':\n",
      "exercise2-451e19.cpp:(.text+0x1639): undefined reference to `tbb::detail::r1::deallocate(tbb::detail::d1::small_object_pool&, void*, unsigned long, tbb::detail::d1::execution_data const&)'\n",
      "/usr/bin/ld: exercise2-451e19.cpp:(.text+0x1660): undefined reference to `tbb::detail::r1::deallocate(tbb::detail::d1::small_object_pool&, void*, unsigned long, tbb::detail::d1::execution_data const&)'\n",
      "/usr/bin/ld: exercise2-451e19.cpp:(.text+0x1680): undefined reference to `tbb::detail::r1::notify_waiters(unsigned long)'\n",
      "/usr/bin/ld: /tmp/exercise2-4ba927.o: in function `_ZNK3tbb6detail2d119task_arena_functionIZN6oneapi3dpl13__tbb_backend14__parallel_forIRKNS4_9execution2v127parallel_unsequenced_policyEN9__gnu_cxx17__normal_iteratorIPKdSt6vectorIdSaIdEEEEZZNS4_10__internal15__pattern_walk2ISB_SJ_NSD_IPdSI_EENSK_17__invoke_unary_opIZ5daxpydRKSI_RSI_EUlRSE_E_EESt17integral_constantIbLb1EEEENSt9enable_ifIXaasr6oneapi3dpl10__internal26__is_host_execution_policyINSt5decayIT_E4typeEEE5valuesr27__is_random_access_iteratorIT0_T1_EE5valueES13_E4typeEOSZ_S12_S12_S13_T2_T3_SW_ENKUlvE_clEvEUlSJ_SJ_E_EEvS16_S12_S12_S13_EUlvE_vEclEv':\n",
      "exercise2-451e19.cpp:(.text+0x16e6): undefined reference to `tbb::detail::r1::initialize(tbb::detail::d1::task_group_context&)'\n",
      "/usr/bin/ld: exercise2-451e19.cpp:(.text+0x1707): undefined reference to `tbb::detail::r1::allocate(tbb::detail::d1::small_object_pool*&, unsigned long)'\n",
      "/usr/bin/ld: exercise2-451e19.cpp:(.text+0x175a): undefined reference to `tbb::detail::r1::max_concurrency(tbb::detail::d1::task_arena_base const*)'\n",
      "/usr/bin/ld: exercise2-451e19.cpp:(.text+0x17ce): undefined reference to `tbb::detail::r1::execute_and_wait(tbb::detail::d1::task&, tbb::detail::d1::task_group_context&, tbb::detail::d1::wait_context&, tbb::detail::d1::task_group_context&)'\n",
      "/usr/bin/ld: exercise2-451e19.cpp:(.text+0x17d8): undefined reference to `tbb::detail::r1::destroy(tbb::detail::d1::task_group_context&)'\n",
      "/usr/bin/ld: exercise2-451e19.cpp:(.text+0x17fc): undefined reference to `tbb::detail::r1::destroy(tbb::detail::d1::task_group_context&)'\n",
      "/usr/bin/ld: /tmp/exercise2-4ba927.o: in function `_ZN3tbb6detail2d19start_forINS1_13blocked_rangeIN9__gnu_cxx17__normal_iteratorIPKdSt6vectorIdSaIdEEEEEEN6oneapi3dpl13__tbb_backend19__parallel_for_bodyISB_ZZNSE_10__internal15__pattern_walk2IRKNSE_9execution2v127parallel_unsequenced_policyESB_NS5_IPdSA_EENSH_17__invoke_unary_opIZ5daxpydRKSA_RSA_EUlRS6_E_EESt17integral_constantIbLb1EEEENSt9enable_ifIXaasr6oneapi3dpl10__internal26__is_host_execution_policyINSt5decayIT_E4typeEEE5valuesr27__is_random_access_iteratorIT0_T1_EE5valueES15_E4typeEOS11_S14_S14_S15_T2_T3_SY_ENKUlvE_clEvEUlSB_SB_E_EEKNS1_16auto_partitionerEE7executeERNS1_14execution_dataE':\n",
      "exercise2-451e19.cpp:(.text+0x1855): undefined reference to `tbb::detail::r1::execution_slot(tbb::detail::d1::execution_data const*)'\n",
      "/usr/bin/ld: exercise2-451e19.cpp:(.text+0x1862): undefined reference to `tbb::detail::r1::execution_slot(tbb::detail::d1::execution_data const*)'\n",
      "/usr/bin/ld: exercise2-451e19.cpp:(.text+0x1881): undefined reference to `tbb::detail::r1::execution_slot(tbb::detail::d1::execution_data const*)'\n",
      "/usr/bin/ld: exercise2-451e19.cpp:(.text+0x1955): undefined reference to `tbb::detail::r1::allocate(tbb::detail::d1::small_object_pool*&, unsigned long, tbb::detail::d1::execution_data const&)'\n",
      "/usr/bin/ld: exercise2-451e19.cpp:(.text+0x1a1f): undefined reference to `tbb::detail::r1::allocate(tbb::detail::d1::small_object_pool*&, unsigned long, tbb::detail::d1::execution_data const&)'\n",
      "/usr/bin/ld: exercise2-451e19.cpp:(.text+0x1a58): undefined reference to `tbb::detail::r1::spawn(tbb::detail::d1::task&, tbb::detail::d1::task_group_context&)'\n",
      "/usr/bin/ld: exercise2-451e19.cpp:(.text+0x1ce6): undefined reference to `tbb::detail::r1::allocate(tbb::detail::d1::small_object_pool*&, unsigned long, tbb::detail::d1::execution_data const&)'\n",
      "/usr/bin/ld: exercise2-451e19.cpp:(.text+0x1d97): undefined reference to `tbb::detail::r1::allocate(tbb::detail::d1::small_object_pool*&, unsigned long, tbb::detail::d1::execution_data const&)'\n",
      "/usr/bin/ld: exercise2-451e19.cpp:(.text+0x1dd5): undefined reference to `tbb::detail::r1::spawn(tbb::detail::d1::task&, tbb::detail::d1::task_group_context&)'\n",
      "/usr/bin/ld: exercise2-451e19.cpp:(.text+0x1f34): undefined reference to `tbb::detail::r1::is_group_execution_cancelled(tbb::detail::d1::task_group_context&)'\n",
      "/usr/bin/ld: exercise2-451e19.cpp:(.text+0x20a9): undefined reference to `tbb::detail::r1::deallocate(tbb::detail::d1::small_object_pool&, void*, unsigned long, tbb::detail::d1::execution_data const&)'\n",
      "/usr/bin/ld: exercise2-451e19.cpp:(.text+0x20d0): undefined reference to `tbb::detail::r1::deallocate(tbb::detail::d1::small_object_pool&, void*, unsigned long, tbb::detail::d1::execution_data const&)'\n",
      "/usr/bin/ld: exercise2-451e19.cpp:(.text+0x20f8): undefined reference to `tbb::detail::r1::notify_waiters(unsigned long)'\n",
      "/usr/bin/ld: /tmp/exercise2-4ba927.o: in function `_ZN3tbb6detail2d19start_forINS1_13blocked_rangeIN9__gnu_cxx17__normal_iteratorIPKdSt6vectorIdSaIdEEEEEEN6oneapi3dpl13__tbb_backend19__parallel_for_bodyISB_ZZNSE_10__internal15__pattern_walk2IRKNSE_9execution2v127parallel_unsequenced_policyESB_NS5_IPdSA_EENSH_17__invoke_unary_opIZ5daxpydRKSA_RSA_EUlRS6_E_EESt17integral_constantIbLb1EEEENSt9enable_ifIXaasr6oneapi3dpl10__internal26__is_host_execution_policyINSt5decayIT_E4typeEEE5valuesr27__is_random_access_iteratorIT0_T1_EE5valueES15_E4typeEOS11_S14_S14_S15_T2_T3_SY_ENKUlvE_clEvEUlSB_SB_E_EEKNS1_16auto_partitionerEE6cancelERNS1_14execution_dataE':\n",
      "exercise2-451e19.cpp:(.text+0x2159): undefined reference to `tbb::detail::r1::deallocate(tbb::detail::d1::small_object_pool&, void*, unsigned long, tbb::detail::d1::execution_data const&)'\n",
      "/usr/bin/ld: exercise2-451e19.cpp:(.text+0x2180): undefined reference to `tbb::detail::r1::deallocate(tbb::detail::d1::small_object_pool&, void*, unsigned long, tbb::detail::d1::execution_data const&)'\n",
      "/usr/bin/ld: exercise2-451e19.cpp:(.text+0x21a0): undefined reference to `tbb::detail::r1::notify_waiters(unsigned long)'\n",
      "/usr/bin/ld: /tmp/exercise2-4ba927.o: in function `_ZNK3tbb6detail2d119task_arena_functionIZN6oneapi3dpl13__tbb_backend14__parallel_forIRKNS4_9execution2v127parallel_unsequenced_policyEN9__gnu_cxx17__normal_iteratorIPdSt6vectorIdSaIdEEEEZZNS4_10__internal14__pattern_fillISB_SI_dSt17integral_constantIbLb1EEEENSt9enable_ifIXsr6oneapi3dpl10__internal26__is_host_execution_policyINSt5decayIT_E4typeEEE5valueET0_E4typeEOSP_SS_SS_RKT1_SM_T2_ENKUlvE_clEvEUlSI_SI_E_EEvSV_SS_SS_SW_EUlvE_vEclEv':\n",
      "exercise2-451e19.cpp:(.text._ZNK3tbb6detail2d119task_arena_functionIZN6oneapi3dpl13__tbb_backend14__parallel_forIRKNS4_9execution2v127parallel_unsequenced_policyEN9__gnu_cxx17__normal_iteratorIPdSt6vectorIdSaIdEEEEZZNS4_10__internal14__pattern_fillISB_SI_dSt17integral_constantIbLb1EEEENSt9enable_ifIXsr6oneapi3dpl10__internal26__is_host_execution_policyINSt5decayIT_E4typeEEE5valueET0_E4typeEOSP_SS_SS_RKT1_SM_T2_ENKUlvE_clEvEUlSI_SI_E_EEvSV_SS_SS_SW_EUlvE_vEclEv[_ZNK3tbb6detail2d119task_arena_functionIZN6oneapi3dpl13__tbb_backend14__parallel_forIRKNS4_9execution2v127parallel_unsequenced_policyEN9__gnu_cxx17__normal_iteratorIPdSt6vectorIdSaIdEEEEZZNS4_10__internal14__pattern_fillISB_SI_dSt17integral_constantIbLb1EEEENSt9enable_ifIXsr6oneapi3dpl10__internal26__is_host_execution_policyINSt5decayIT_E4typeEEE5valueET0_E4typeEOSP_SS_SS_RKT1_SM_T2_ENKUlvE_clEvEUlSI_SI_E_EEvSV_SS_SS_SW_EUlvE_vEclEv]+0x41): undefined reference to `tbb::detail::r1::initialize(tbb::detail::d1::task_group_context&)'\n",
      "/usr/bin/ld: exercise2-451e19.cpp:(.text._ZNK3tbb6detail2d119task_arena_functionIZN6oneapi3dpl13__tbb_backend14__parallel_forIRKNS4_9execution2v127parallel_unsequenced_policyEN9__gnu_cxx17__normal_iteratorIPdSt6vectorIdSaIdEEEEZZNS4_10__internal14__pattern_fillISB_SI_dSt17integral_constantIbLb1EEEENSt9enable_ifIXsr6oneapi3dpl10__internal26__is_host_execution_policyINSt5decayIT_E4typeEEE5valueET0_E4typeEOSP_SS_SS_RKT1_SM_T2_ENKUlvE_clEvEUlSI_SI_E_EEvSV_SS_SS_SW_EUlvE_vEclEv[_ZNK3tbb6detail2d119task_arena_functionIZN6oneapi3dpl13__tbb_backend14__parallel_forIRKNS4_9execution2v127parallel_unsequenced_policyEN9__gnu_cxx17__normal_iteratorIPdSt6vectorIdSaIdEEEEZZNS4_10__internal14__pattern_fillISB_SI_dSt17integral_constantIbLb1EEEENSt9enable_ifIXsr6oneapi3dpl10__internal26__is_host_execution_policyINSt5decayIT_E4typeEEE5valueET0_E4typeEOSP_SS_SS_RKT1_SM_T2_ENKUlvE_clEvEUlSI_SI_E_EEvSV_SS_SS_SW_EUlvE_vEclEv]+0x62): undefined reference to `tbb::detail::r1::allocate(tbb::detail::d1::small_object_pool*&, unsigned long)'\n",
      "/usr/bin/ld: exercise2-451e19.cpp:(.text._ZNK3tbb6detail2d119task_arena_functionIZN6oneapi3dpl13__tbb_backend14__parallel_forIRKNS4_9execution2v127parallel_unsequenced_policyEN9__gnu_cxx17__normal_iteratorIPdSt6vectorIdSaIdEEEEZZNS4_10__internal14__pattern_fillISB_SI_dSt17integral_constantIbLb1EEEENSt9enable_ifIXsr6oneapi3dpl10__internal26__is_host_execution_policyINSt5decayIT_E4typeEEE5valueET0_E4typeEOSP_SS_SS_RKT1_SM_T2_ENKUlvE_clEvEUlSI_SI_E_EEvSV_SS_SS_SW_EUlvE_vEclEv[_ZNK3tbb6detail2d119task_arena_functionIZN6oneapi3dpl13__tbb_backend14__parallel_forIRKNS4_9execution2v127parallel_unsequenced_policyEN9__gnu_cxx17__normal_iteratorIPdSt6vectorIdSaIdEEEEZZNS4_10__internal14__pattern_fillISB_SI_dSt17integral_constantIbLb1EEEENSt9enable_ifIXsr6oneapi3dpl10__internal26__is_host_execution_policyINSt5decayIT_E4typeEEE5valueET0_E4typeEOSP_SS_SS_RKT1_SM_T2_ENKUlvE_clEvEUlSI_SI_E_EEvSV_SS_SS_SW_EUlvE_vEclEv]+0xa3): undefined reference to `tbb::detail::r1::max_concurrency(tbb::detail::d1::task_arena_base const*)'\n",
      "/usr/bin/ld: exercise2-451e19.cpp:(.text._ZNK3tbb6detail2d119task_arena_functionIZN6oneapi3dpl13__tbb_backend14__parallel_forIRKNS4_9execution2v127parallel_unsequenced_policyEN9__gnu_cxx17__normal_iteratorIPdSt6vectorIdSaIdEEEEZZNS4_10__internal14__pattern_fillISB_SI_dSt17integral_constantIbLb1EEEENSt9enable_ifIXsr6oneapi3dpl10__internal26__is_host_execution_policyINSt5decayIT_E4typeEEE5valueET0_E4typeEOSP_SS_SS_RKT1_SM_T2_ENKUlvE_clEvEUlSI_SI_E_EEvSV_SS_SS_SW_EUlvE_vEclEv[_ZNK3tbb6detail2d119task_arena_functionIZN6oneapi3dpl13__tbb_backend14__parallel_forIRKNS4_9execution2v127parallel_unsequenced_policyEN9__gnu_cxx17__normal_iteratorIPdSt6vectorIdSaIdEEEEZZNS4_10__internal14__pattern_fillISB_SI_dSt17integral_constantIbLb1EEEENSt9enable_ifIXsr6oneapi3dpl10__internal26__is_host_execution_policyINSt5decayIT_E4typeEEE5valueET0_E4typeEOSP_SS_SS_RKT1_SM_T2_ENKUlvE_clEvEUlSI_SI_E_EEvSV_SS_SS_SW_EUlvE_vEclEv]+0x10b): undefined reference to `tbb::detail::r1::execute_and_wait(tbb::detail::d1::task&, tbb::detail::d1::task_group_context&, tbb::detail::d1::wait_context&, tbb::detail::d1::task_group_context&)'\n",
      "/usr/bin/ld: exercise2-451e19.cpp:(.text._ZNK3tbb6detail2d119task_arena_functionIZN6oneapi3dpl13__tbb_backend14__parallel_forIRKNS4_9execution2v127parallel_unsequenced_policyEN9__gnu_cxx17__normal_iteratorIPdSt6vectorIdSaIdEEEEZZNS4_10__internal14__pattern_fillISB_SI_dSt17integral_constantIbLb1EEEENSt9enable_ifIXsr6oneapi3dpl10__internal26__is_host_execution_policyINSt5decayIT_E4typeEEE5valueET0_E4typeEOSP_SS_SS_RKT1_SM_T2_ENKUlvE_clEvEUlSI_SI_E_EEvSV_SS_SS_SW_EUlvE_vEclEv[_ZNK3tbb6detail2d119task_arena_functionIZN6oneapi3dpl13__tbb_backend14__parallel_forIRKNS4_9execution2v127parallel_unsequenced_policyEN9__gnu_cxx17__normal_iteratorIPdSt6vectorIdSaIdEEEEZZNS4_10__internal14__pattern_fillISB_SI_dSt17integral_constantIbLb1EEEENSt9enable_ifIXsr6oneapi3dpl10__internal26__is_host_execution_policyINSt5decayIT_E4typeEEE5valueET0_E4typeEOSP_SS_SS_RKT1_SM_T2_ENKUlvE_clEvEUlSI_SI_E_EEvSV_SS_SS_SW_EUlvE_vEclEv]+0x115): undefined reference to `tbb::detail::r1::destroy(tbb::detail::d1::task_group_context&)'\n",
      "/usr/bin/ld: exercise2-451e19.cpp:(.text._ZNK3tbb6detail2d119task_arena_functionIZN6oneapi3dpl13__tbb_backend14__parallel_forIRKNS4_9execution2v127parallel_unsequenced_policyEN9__gnu_cxx17__normal_iteratorIPdSt6vectorIdSaIdEEEEZZNS4_10__internal14__pattern_fillISB_SI_dSt17integral_constantIbLb1EEEENSt9enable_ifIXsr6oneapi3dpl10__internal26__is_host_execution_policyINSt5decayIT_E4typeEEE5valueET0_E4typeEOSP_SS_SS_RKT1_SM_T2_ENKUlvE_clEvEUlSI_SI_E_EEvSV_SS_SS_SW_EUlvE_vEclEv[_ZNK3tbb6detail2d119task_arena_functionIZN6oneapi3dpl13__tbb_backend14__parallel_forIRKNS4_9execution2v127parallel_unsequenced_policyEN9__gnu_cxx17__normal_iteratorIPdSt6vectorIdSaIdEEEEZZNS4_10__internal14__pattern_fillISB_SI_dSt17integral_constantIbLb1EEEENSt9enable_ifIXsr6oneapi3dpl10__internal26__is_host_execution_policyINSt5decayIT_E4typeEEE5valueET0_E4typeEOSP_SS_SS_RKT1_SM_T2_ENKUlvE_clEvEUlSI_SI_E_EEvSV_SS_SS_SW_EUlvE_vEclEv]+0x139): undefined reference to `tbb::detail::r1::destroy(tbb::detail::d1::task_group_context&)'\n",
      "/usr/bin/ld: /tmp/exercise2-4ba927.o: in function `_ZN3tbb6detail2d19start_forINS1_13blocked_rangeIN9__gnu_cxx17__normal_iteratorIPdSt6vectorIdSaIdEEEEEEN6oneapi3dpl13__tbb_backend19__parallel_for_bodyISA_ZZNSD_10__internal14__pattern_fillIRKNSD_9execution2v127parallel_unsequenced_policyESA_dSt17integral_constantIbLb1EEEENSt9enable_ifIXsr6oneapi3dpl10__internal26__is_host_execution_policyINSt5decayIT_E4typeEEE5valueET0_E4typeEOSR_SU_SU_RKT1_SO_T2_ENKUlvE_clEvEUlSA_SA_E_EEKNS1_16auto_partitionerEE7executeERNS1_14execution_dataE':\n",
      "exercise2-451e19.cpp:(.text._ZN3tbb6detail2d19start_forINS1_13blocked_rangeIN9__gnu_cxx17__normal_iteratorIPdSt6vectorIdSaIdEEEEEEN6oneapi3dpl13__tbb_backend19__parallel_for_bodyISA_ZZNSD_10__internal14__pattern_fillIRKNSD_9execution2v127parallel_unsequenced_policyESA_dSt17integral_constantIbLb1EEEENSt9enable_ifIXsr6oneapi3dpl10__internal26__is_host_execution_policyINSt5decayIT_E4typeEEE5valueET0_E4typeEOSR_SU_SU_RKT1_SO_T2_ENKUlvE_clEvEUlSA_SA_E_EEKNS1_16auto_partitionerEE7executeERNS1_14execution_dataE[_ZN3tbb6detail2d19start_forINS1_13blocked_rangeIN9__gnu_cxx17__normal_iteratorIPdSt6vectorIdSaIdEEEEEEN6oneapi3dpl13__tbb_backend19__parallel_for_bodyISA_ZZNSD_10__internal14__pattern_fillIRKNSD_9execution2v127parallel_unsequenced_policyESA_dSt17integral_constantIbLb1EEEENSt9enable_ifIXsr6oneapi3dpl10__internal26__is_host_execution_policyINSt5decayIT_E4typeEEE5valueET0_E4typeEOSR_SU_SU_RKT1_SO_T2_ENKUlvE_clEvEUlSA_SA_E_EEKNS1_16auto_partitionerEE7executeERNS1_14execution_dataE]+0x25): undefined reference to `tbb::detail::r1::execution_slot(tbb::detail::d1::execution_data const*)'\n",
      "/usr/bin/ld: exercise2-451e19.cpp:(.text._ZN3tbb6detail2d19start_forINS1_13blocked_rangeIN9__gnu_cxx17__normal_iteratorIPdSt6vectorIdSaIdEEEEEEN6oneapi3dpl13__tbb_backend19__parallel_for_bodyISA_ZZNSD_10__internal14__pattern_fillIRKNSD_9execution2v127parallel_unsequenced_policyESA_dSt17integral_constantIbLb1EEEENSt9enable_ifIXsr6oneapi3dpl10__internal26__is_host_execution_policyINSt5decayIT_E4typeEEE5valueET0_E4typeEOSR_SU_SU_RKT1_SO_T2_ENKUlvE_clEvEUlSA_SA_E_EEKNS1_16auto_partitionerEE7executeERNS1_14execution_dataE[_ZN3tbb6detail2d19start_forINS1_13blocked_rangeIN9__gnu_cxx17__normal_iteratorIPdSt6vectorIdSaIdEEEEEEN6oneapi3dpl13__tbb_backend19__parallel_for_bodyISA_ZZNSD_10__internal14__pattern_fillIRKNSD_9execution2v127parallel_unsequenced_policyESA_dSt17integral_constantIbLb1EEEENSt9enable_ifIXsr6oneapi3dpl10__internal26__is_host_execution_policyINSt5decayIT_E4typeEEE5valueET0_E4typeEOSR_SU_SU_RKT1_SO_T2_ENKUlvE_clEvEUlSA_SA_E_EEKNS1_16auto_partitionerEE7executeERNS1_14execution_dataE]+0x32): undefined reference to `tbb::detail::r1::execution_slot(tbb::detail::d1::execution_data const*)'\n",
      "/usr/bin/ld: exercise2-451e19.cpp:(.text._ZN3tbb6detail2d19start_forINS1_13blocked_rangeIN9__gnu_cxx17__normal_iteratorIPdSt6vectorIdSaIdEEEEEEN6oneapi3dpl13__tbb_backend19__parallel_for_bodyISA_ZZNSD_10__internal14__pattern_fillIRKNSD_9execution2v127parallel_unsequenced_policyESA_dSt17integral_constantIbLb1EEEENSt9enable_ifIXsr6oneapi3dpl10__internal26__is_host_execution_policyINSt5decayIT_E4typeEEE5valueET0_E4typeEOSR_SU_SU_RKT1_SO_T2_ENKUlvE_clEvEUlSA_SA_E_EEKNS1_16auto_partitionerEE7executeERNS1_14execution_dataE[_ZN3tbb6detail2d19start_forINS1_13blocked_rangeIN9__gnu_cxx17__normal_iteratorIPdSt6vectorIdSaIdEEEEEEN6oneapi3dpl13__tbb_backend19__parallel_for_bodyISA_ZZNSD_10__internal14__pattern_fillIRKNSD_9execution2v127parallel_unsequenced_policyESA_dSt17integral_constantIbLb1EEEENSt9enable_ifIXsr6oneapi3dpl10__internal26__is_host_execution_policyINSt5decayIT_E4typeEEE5valueET0_E4typeEOSR_SU_SU_RKT1_SO_T2_ENKUlvE_clEvEUlSA_SA_E_EEKNS1_16auto_partitionerEE7executeERNS1_14execution_dataE]+0x4b): undefined reference to `tbb::detail::r1::execution_slot(tbb::detail::d1::execution_data const*)'\n",
      "/usr/bin/ld: exercise2-451e19.cpp:(.text._ZN3tbb6detail2d19start_forINS1_13blocked_rangeIN9__gnu_cxx17__normal_iteratorIPdSt6vectorIdSaIdEEEEEEN6oneapi3dpl13__tbb_backend19__parallel_for_bodyISA_ZZNSD_10__internal14__pattern_fillIRKNSD_9execution2v127parallel_unsequenced_policyESA_dSt17integral_constantIbLb1EEEENSt9enable_ifIXsr6oneapi3dpl10__internal26__is_host_execution_policyINSt5decayIT_E4typeEEE5valueET0_E4typeEOSR_SU_SU_RKT1_SO_T2_ENKUlvE_clEvEUlSA_SA_E_EEKNS1_16auto_partitionerEE7executeERNS1_14execution_dataE[_ZN3tbb6detail2d19start_forINS1_13blocked_rangeIN9__gnu_cxx17__normal_iteratorIPdSt6vectorIdSaIdEEEEEEN6oneapi3dpl13__tbb_backend19__parallel_for_bodyISA_ZZNSD_10__internal14__pattern_fillIRKNSD_9execution2v127parallel_unsequenced_policyESA_dSt17integral_constantIbLb1EEEENSt9enable_ifIXsr6oneapi3dpl10__internal26__is_host_execution_policyINSt5decayIT_E4typeEEE5valueET0_E4typeEOSR_SU_SU_RKT1_SO_T2_ENKUlvE_clEvEUlSA_SA_E_EEKNS1_16auto_partitionerEE7executeERNS1_14execution_dataE]+0x105): undefined reference to `tbb::detail::r1::allocate(tbb::detail::d1::small_object_pool*&, unsigned long, tbb::detail::d1::execution_data const&)'\n",
      "/usr/bin/ld: exercise2-451e19.cpp:(.text._ZN3tbb6detail2d19start_forINS1_13blocked_rangeIN9__gnu_cxx17__normal_iteratorIPdSt6vectorIdSaIdEEEEEEN6oneapi3dpl13__tbb_backend19__parallel_for_bodyISA_ZZNSD_10__internal14__pattern_fillIRKNSD_9execution2v127parallel_unsequenced_policyESA_dSt17integral_constantIbLb1EEEENSt9enable_ifIXsr6oneapi3dpl10__internal26__is_host_execution_policyINSt5decayIT_E4typeEEE5valueET0_E4typeEOSR_SU_SU_RKT1_SO_T2_ENKUlvE_clEvEUlSA_SA_E_EEKNS1_16auto_partitionerEE7executeERNS1_14execution_dataE[_ZN3tbb6detail2d19start_forINS1_13blocked_rangeIN9__gnu_cxx17__normal_iteratorIPdSt6vectorIdSaIdEEEEEEN6oneapi3dpl13__tbb_backend19__parallel_for_bodyISA_ZZNSD_10__internal14__pattern_fillIRKNSD_9execution2v127parallel_unsequenced_policyESA_dSt17integral_constantIbLb1EEEENSt9enable_ifIXsr6oneapi3dpl10__internal26__is_host_execution_policyINSt5decayIT_E4typeEEE5valueET0_E4typeEOSR_SU_SU_RKT1_SO_T2_ENKUlvE_clEvEUlSA_SA_E_EEKNS1_16auto_partitionerEE7executeERNS1_14execution_dataE]+0x1a9): undefined reference to `tbb::detail::r1::allocate(tbb::detail::d1::small_object_pool*&, unsigned long, tbb::detail::d1::execution_data const&)'\n",
      "/usr/bin/ld: exercise2-451e19.cpp:(.text._ZN3tbb6detail2d19start_forINS1_13blocked_rangeIN9__gnu_cxx17__normal_iteratorIPdSt6vectorIdSaIdEEEEEEN6oneapi3dpl13__tbb_backend19__parallel_for_bodyISA_ZZNSD_10__internal14__pattern_fillIRKNSD_9execution2v127parallel_unsequenced_policyESA_dSt17integral_constantIbLb1EEEENSt9enable_ifIXsr6oneapi3dpl10__internal26__is_host_execution_policyINSt5decayIT_E4typeEEE5valueET0_E4typeEOSR_SU_SU_RKT1_SO_T2_ENKUlvE_clEvEUlSA_SA_E_EEKNS1_16auto_partitionerEE7executeERNS1_14execution_dataE[_ZN3tbb6detail2d19start_forINS1_13blocked_rangeIN9__gnu_cxx17__normal_iteratorIPdSt6vectorIdSaIdEEEEEEN6oneapi3dpl13__tbb_backend19__parallel_for_bodyISA_ZZNSD_10__internal14__pattern_fillIRKNSD_9execution2v127parallel_unsequenced_policyESA_dSt17integral_constantIbLb1EEEENSt9enable_ifIXsr6oneapi3dpl10__internal26__is_host_execution_policyINSt5decayIT_E4typeEEE5valueET0_E4typeEOSR_SU_SU_RKT1_SO_T2_ENKUlvE_clEvEUlSA_SA_E_EEKNS1_16auto_partitionerEE7executeERNS1_14execution_dataE]+0x1da): undefined reference to `tbb::detail::r1::spawn(tbb::detail::d1::task&, tbb::detail::d1::task_group_context&)'\n",
      "/usr/bin/ld: exercise2-451e19.cpp:(.text._ZN3tbb6detail2d19start_forINS1_13blocked_rangeIN9__gnu_cxx17__normal_iteratorIPdSt6vectorIdSaIdEEEEEEN6oneapi3dpl13__tbb_backend19__parallel_for_bodyISA_ZZNSD_10__internal14__pattern_fillIRKNSD_9execution2v127parallel_unsequenced_policyESA_dSt17integral_constantIbLb1EEEENSt9enable_ifIXsr6oneapi3dpl10__internal26__is_host_execution_policyINSt5decayIT_E4typeEEE5valueET0_E4typeEOSR_SU_SU_RKT1_SO_T2_ENKUlvE_clEvEUlSA_SA_E_EEKNS1_16auto_partitionerEE7executeERNS1_14execution_dataE[_ZN3tbb6detail2d19start_forINS1_13blocked_rangeIN9__gnu_cxx17__normal_iteratorIPdSt6vectorIdSaIdEEEEEEN6oneapi3dpl13__tbb_backend19__parallel_for_bodyISA_ZZNSD_10__internal14__pattern_fillIRKNSD_9execution2v127parallel_unsequenced_policyESA_dSt17integral_constantIbLb1EEEENSt9enable_ifIXsr6oneapi3dpl10__internal26__is_host_execution_policyINSt5decayIT_E4typeEEE5valueET0_E4typeEOSR_SU_SU_RKT1_SO_T2_ENKUlvE_clEvEUlSA_SA_E_EEKNS1_16auto_partitionerEE7executeERNS1_14execution_dataE]+0x4ff): undefined reference to `tbb::detail::r1::allocate(tbb::detail::d1::small_object_pool*&, unsigned long, tbb::detail::d1::execution_data const&)'\n",
      "/usr/bin/ld: exercise2-451e19.cpp:(.text._ZN3tbb6detail2d19start_forINS1_13blocked_rangeIN9__gnu_cxx17__normal_iteratorIPdSt6vectorIdSaIdEEEEEEN6oneapi3dpl13__tbb_backend19__parallel_for_bodyISA_ZZNSD_10__internal14__pattern_fillIRKNSD_9execution2v127parallel_unsequenced_policyESA_dSt17integral_constantIbLb1EEEENSt9enable_ifIXsr6oneapi3dpl10__internal26__is_host_execution_policyINSt5decayIT_E4typeEEE5valueET0_E4typeEOSR_SU_SU_RKT1_SO_T2_ENKUlvE_clEvEUlSA_SA_E_EEKNS1_16auto_partitionerEE7executeERNS1_14execution_dataE[_ZN3tbb6detail2d19start_forINS1_13blocked_rangeIN9__gnu_cxx17__normal_iteratorIPdSt6vectorIdSaIdEEEEEEN6oneapi3dpl13__tbb_backend19__parallel_for_bodyISA_ZZNSD_10__internal14__pattern_fillIRKNSD_9execution2v127parallel_unsequenced_policyESA_dSt17integral_constantIbLb1EEEENSt9enable_ifIXsr6oneapi3dpl10__internal26__is_host_execution_policyINSt5decayIT_E4typeEEE5valueET0_E4typeEOSR_SU_SU_RKT1_SO_T2_ENKUlvE_clEvEUlSA_SA_E_EEKNS1_16auto_partitionerEE7executeERNS1_14execution_dataE]+0x58e): undefined reference to `tbb::detail::r1::allocate(tbb::detail::d1::small_object_pool*&, unsigned long, tbb::detail::d1::execution_data const&)'\n",
      "/usr/bin/ld: exercise2-451e19.cpp:(.text._ZN3tbb6detail2d19start_forINS1_13blocked_rangeIN9__gnu_cxx17__normal_iteratorIPdSt6vectorIdSaIdEEEEEEN6oneapi3dpl13__tbb_backend19__parallel_for_bodyISA_ZZNSD_10__internal14__pattern_fillIRKNSD_9execution2v127parallel_unsequenced_policyESA_dSt17integral_constantIbLb1EEEENSt9enable_ifIXsr6oneapi3dpl10__internal26__is_host_execution_policyINSt5decayIT_E4typeEEE5valueET0_E4typeEOSR_SU_SU_RKT1_SO_T2_ENKUlvE_clEvEUlSA_SA_E_EEKNS1_16auto_partitionerEE7executeERNS1_14execution_dataE[_ZN3tbb6detail2d19start_forINS1_13blocked_rangeIN9__gnu_cxx17__normal_iteratorIPdSt6vectorIdSaIdEEEEEEN6oneapi3dpl13__tbb_backend19__parallel_for_bodyISA_ZZNSD_10__internal14__pattern_fillIRKNSD_9execution2v127parallel_unsequenced_policyESA_dSt17integral_constantIbLb1EEEENSt9enable_ifIXsr6oneapi3dpl10__internal26__is_host_execution_policyINSt5decayIT_E4typeEEE5valueET0_E4typeEOSR_SU_SU_RKT1_SO_T2_ENKUlvE_clEvEUlSA_SA_E_EEKNS1_16auto_partitionerEE7executeERNS1_14execution_dataE]+0x5c8): undefined reference to `tbb::detail::r1::spawn(tbb::detail::d1::task&, tbb::detail::d1::task_group_context&)'\n",
      "/usr/bin/ld: exercise2-451e19.cpp:(.text._ZN3tbb6detail2d19start_forINS1_13blocked_rangeIN9__gnu_cxx17__normal_iteratorIPdSt6vectorIdSaIdEEEEEEN6oneapi3dpl13__tbb_backend19__parallel_for_bodyISA_ZZNSD_10__internal14__pattern_fillIRKNSD_9execution2v127parallel_unsequenced_policyESA_dSt17integral_constantIbLb1EEEENSt9enable_ifIXsr6oneapi3dpl10__internal26__is_host_execution_policyINSt5decayIT_E4typeEEE5valueET0_E4typeEOSR_SU_SU_RKT1_SO_T2_ENKUlvE_clEvEUlSA_SA_E_EEKNS1_16auto_partitionerEE7executeERNS1_14execution_dataE[_ZN3tbb6detail2d19start_forINS1_13blocked_rangeIN9__gnu_cxx17__normal_iteratorIPdSt6vectorIdSaIdEEEEEEN6oneapi3dpl13__tbb_backend19__parallel_for_bodyISA_ZZNSD_10__internal14__pattern_fillIRKNSD_9execution2v127parallel_unsequenced_policyESA_dSt17integral_constantIbLb1EEEENSt9enable_ifIXsr6oneapi3dpl10__internal26__is_host_execution_policyINSt5decayIT_E4typeEEE5valueET0_E4typeEOSR_SU_SU_RKT1_SO_T2_ENKUlvE_clEvEUlSA_SA_E_EEKNS1_16auto_partitionerEE7executeERNS1_14execution_dataE]+0x6f3): undefined reference to `tbb::detail::r1::is_group_execution_cancelled(tbb::detail::d1::task_group_context&)'\n",
      "/usr/bin/ld: exercise2-451e19.cpp:(.text._ZN3tbb6detail2d19start_forINS1_13blocked_rangeIN9__gnu_cxx17__normal_iteratorIPdSt6vectorIdSaIdEEEEEEN6oneapi3dpl13__tbb_backend19__parallel_for_bodyISA_ZZNSD_10__internal14__pattern_fillIRKNSD_9execution2v127parallel_unsequenced_policyESA_dSt17integral_constantIbLb1EEEENSt9enable_ifIXsr6oneapi3dpl10__internal26__is_host_execution_policyINSt5decayIT_E4typeEEE5valueET0_E4typeEOSR_SU_SU_RKT1_SO_T2_ENKUlvE_clEvEUlSA_SA_E_EEKNS1_16auto_partitionerEE7executeERNS1_14execution_dataE[_ZN3tbb6detail2d19start_forINS1_13blocked_rangeIN9__gnu_cxx17__normal_iteratorIPdSt6vectorIdSaIdEEEEEEN6oneapi3dpl13__tbb_backend19__parallel_for_bodyISA_ZZNSD_10__internal14__pattern_fillIRKNSD_9execution2v127parallel_unsequenced_policyESA_dSt17integral_constantIbLb1EEEENSt9enable_ifIXsr6oneapi3dpl10__internal26__is_host_execution_policyINSt5decayIT_E4typeEEE5valueET0_E4typeEOSR_SU_SU_RKT1_SO_T2_ENKUlvE_clEvEUlSA_SA_E_EEKNS1_16auto_partitionerEE7executeERNS1_14execution_dataE]+0x889): undefined reference to `tbb::detail::r1::deallocate(tbb::detail::d1::small_object_pool&, void*, unsigned long, tbb::detail::d1::execution_data const&)'\n",
      "/usr/bin/ld: exercise2-451e19.cpp:(.text._ZN3tbb6detail2d19start_forINS1_13blocked_rangeIN9__gnu_cxx17__normal_iteratorIPdSt6vectorIdSaIdEEEEEEN6oneapi3dpl13__tbb_backend19__parallel_for_bodyISA_ZZNSD_10__internal14__pattern_fillIRKNSD_9execution2v127parallel_unsequenced_policyESA_dSt17integral_constantIbLb1EEEENSt9enable_ifIXsr6oneapi3dpl10__internal26__is_host_execution_policyINSt5decayIT_E4typeEEE5valueET0_E4typeEOSR_SU_SU_RKT1_SO_T2_ENKUlvE_clEvEUlSA_SA_E_EEKNS1_16auto_partitionerEE7executeERNS1_14execution_dataE[_ZN3tbb6detail2d19start_forINS1_13blocked_rangeIN9__gnu_cxx17__normal_iteratorIPdSt6vectorIdSaIdEEEEEEN6oneapi3dpl13__tbb_backend19__parallel_for_bodyISA_ZZNSD_10__internal14__pattern_fillIRKNSD_9execution2v127parallel_unsequenced_policyESA_dSt17integral_constantIbLb1EEEENSt9enable_ifIXsr6oneapi3dpl10__internal26__is_host_execution_policyINSt5decayIT_E4typeEEE5valueET0_E4typeEOSR_SU_SU_RKT1_SO_T2_ENKUlvE_clEvEUlSA_SA_E_EEKNS1_16auto_partitionerEE7executeERNS1_14execution_dataE]+0x8b0): undefined reference to `tbb::detail::r1::deallocate(tbb::detail::d1::small_object_pool&, void*, unsigned long, tbb::detail::d1::execution_data const&)'\n",
      "/usr/bin/ld: exercise2-451e19.cpp:(.text._ZN3tbb6detail2d19start_forINS1_13blocked_rangeIN9__gnu_cxx17__normal_iteratorIPdSt6vectorIdSaIdEEEEEEN6oneapi3dpl13__tbb_backend19__parallel_for_bodyISA_ZZNSD_10__internal14__pattern_fillIRKNSD_9execution2v127parallel_unsequenced_policyESA_dSt17integral_constantIbLb1EEEENSt9enable_ifIXsr6oneapi3dpl10__internal26__is_host_execution_policyINSt5decayIT_E4typeEEE5valueET0_E4typeEOSR_SU_SU_RKT1_SO_T2_ENKUlvE_clEvEUlSA_SA_E_EEKNS1_16auto_partitionerEE7executeERNS1_14execution_dataE[_ZN3tbb6detail2d19start_forINS1_13blocked_rangeIN9__gnu_cxx17__normal_iteratorIPdSt6vectorIdSaIdEEEEEEN6oneapi3dpl13__tbb_backend19__parallel_for_bodyISA_ZZNSD_10__internal14__pattern_fillIRKNSD_9execution2v127parallel_unsequenced_policyESA_dSt17integral_constantIbLb1EEEENSt9enable_ifIXsr6oneapi3dpl10__internal26__is_host_execution_policyINSt5decayIT_E4typeEEE5valueET0_E4typeEOSR_SU_SU_RKT1_SO_T2_ENKUlvE_clEvEUlSA_SA_E_EEKNS1_16auto_partitionerEE7executeERNS1_14execution_dataE]+0x8d8): undefined reference to `tbb::detail::r1::notify_waiters(unsigned long)'\n",
      "/usr/bin/ld: /tmp/exercise2-4ba927.o: in function `_ZN3tbb6detail2d19start_forINS1_13blocked_rangeIN9__gnu_cxx17__normal_iteratorIPdSt6vectorIdSaIdEEEEEEN6oneapi3dpl13__tbb_backend19__parallel_for_bodyISA_ZZNSD_10__internal14__pattern_fillIRKNSD_9execution2v127parallel_unsequenced_policyESA_dSt17integral_constantIbLb1EEEENSt9enable_ifIXsr6oneapi3dpl10__internal26__is_host_execution_policyINSt5decayIT_E4typeEEE5valueET0_E4typeEOSR_SU_SU_RKT1_SO_T2_ENKUlvE_clEvEUlSA_SA_E_EEKNS1_16auto_partitionerEE6cancelERNS1_14execution_dataE':\n",
      "exercise2-451e19.cpp:(.text._ZN3tbb6detail2d19start_forINS1_13blocked_rangeIN9__gnu_cxx17__normal_iteratorIPdSt6vectorIdSaIdEEEEEEN6oneapi3dpl13__tbb_backend19__parallel_for_bodyISA_ZZNSD_10__internal14__pattern_fillIRKNSD_9execution2v127parallel_unsequenced_policyESA_dSt17integral_constantIbLb1EEEENSt9enable_ifIXsr6oneapi3dpl10__internal26__is_host_execution_policyINSt5decayIT_E4typeEEE5valueET0_E4typeEOSR_SU_SU_RKT1_SO_T2_ENKUlvE_clEvEUlSA_SA_E_EEKNS1_16auto_partitionerEE6cancelERNS1_14execution_dataE[_ZN3tbb6detail2d19start_forINS1_13blocked_rangeIN9__gnu_cxx17__normal_iteratorIPdSt6vectorIdSaIdEEEEEEN6oneapi3dpl13__tbb_backend19__parallel_for_bodyISA_ZZNSD_10__internal14__pattern_fillIRKNSD_9execution2v127parallel_unsequenced_policyESA_dSt17integral_constantIbLb1EEEENSt9enable_ifIXsr6oneapi3dpl10__internal26__is_host_execution_policyINSt5decayIT_E4typeEEE5valueET0_E4typeEOSR_SU_SU_RKT1_SO_T2_ENKUlvE_clEvEUlSA_SA_E_EEKNS1_16auto_partitionerEE6cancelERNS1_14execution_dataE]+0x59): undefined reference to `tbb::detail::r1::deallocate(tbb::detail::d1::small_object_pool&, void*, unsigned long, tbb::detail::d1::execution_data const&)'\n",
      "/usr/bin/ld: exercise2-451e19.cpp:(.text._ZN3tbb6detail2d19start_forINS1_13blocked_rangeIN9__gnu_cxx17__normal_iteratorIPdSt6vectorIdSaIdEEEEEEN6oneapi3dpl13__tbb_backend19__parallel_for_bodyISA_ZZNSD_10__internal14__pattern_fillIRKNSD_9execution2v127parallel_unsequenced_policyESA_dSt17integral_constantIbLb1EEEENSt9enable_ifIXsr6oneapi3dpl10__internal26__is_host_execution_policyINSt5decayIT_E4typeEEE5valueET0_E4typeEOSR_SU_SU_RKT1_SO_T2_ENKUlvE_clEvEUlSA_SA_E_EEKNS1_16auto_partitionerEE6cancelERNS1_14execution_dataE[_ZN3tbb6detail2d19start_forINS1_13blocked_rangeIN9__gnu_cxx17__normal_iteratorIPdSt6vectorIdSaIdEEEEEEN6oneapi3dpl13__tbb_backend19__parallel_for_bodyISA_ZZNSD_10__internal14__pattern_fillIRKNSD_9execution2v127parallel_unsequenced_policyESA_dSt17integral_constantIbLb1EEEENSt9enable_ifIXsr6oneapi3dpl10__internal26__is_host_execution_policyINSt5decayIT_E4typeEEE5valueET0_E4typeEOSR_SU_SU_RKT1_SO_T2_ENKUlvE_clEvEUlSA_SA_E_EEKNS1_16auto_partitionerEE6cancelERNS1_14execution_dataE]+0x80): undefined reference to `tbb::detail::r1::deallocate(tbb::detail::d1::small_object_pool&, void*, unsigned long, tbb::detail::d1::execution_data const&)'\n",
      "/usr/bin/ld: exercise2-451e19.cpp:(.text._ZN3tbb6detail2d19start_forINS1_13blocked_rangeIN9__gnu_cxx17__normal_iteratorIPdSt6vectorIdSaIdEEEEEEN6oneapi3dpl13__tbb_backend19__parallel_for_bodyISA_ZZNSD_10__internal14__pattern_fillIRKNSD_9execution2v127parallel_unsequenced_policyESA_dSt17integral_constantIbLb1EEEENSt9enable_ifIXsr6oneapi3dpl10__internal26__is_host_execution_policyINSt5decayIT_E4typeEEE5valueET0_E4typeEOSR_SU_SU_RKT1_SO_T2_ENKUlvE_clEvEUlSA_SA_E_EEKNS1_16auto_partitionerEE6cancelERNS1_14execution_dataE[_ZN3tbb6detail2d19start_forINS1_13blocked_rangeIN9__gnu_cxx17__normal_iteratorIPdSt6vectorIdSaIdEEEEEEN6oneapi3dpl13__tbb_backend19__parallel_for_bodyISA_ZZNSD_10__internal14__pattern_fillIRKNSD_9execution2v127parallel_unsequenced_policyESA_dSt17integral_constantIbLb1EEEENSt9enable_ifIXsr6oneapi3dpl10__internal26__is_host_execution_policyINSt5decayIT_E4typeEEE5valueET0_E4typeEOSR_SU_SU_RKT1_SO_T2_ENKUlvE_clEvEUlSA_SA_E_EEKNS1_16auto_partitionerEE6cancelERNS1_14execution_dataE]+0xa0): undefined reference to `tbb::detail::r1::notify_waiters(unsigned long)'\n",
      "dpcpp: \u001b[0;1;31merror: \u001b[0m\u001b[1mlinker command failed with exit code 1 (use -v to see invocation)\u001b[0m\n",
      "/usr/bin/sh: 1: ./daxpy: not found\n"
     ]
    }
   ],
   "source": [
    "!dpcpp -std=c++17 -Ofast -DNDEBUG -isystem/usr/local/range-v3/include -o daxpy solutions/exercise2.cpp -ltbb\n",
    "!./daxpy 1000000"
   ]
  }
 ],
 "metadata": {
  "kernelspec": {
   "display_name": "Python 3 (ipykernel)",
   "language": "python",
   "name": "python3"
  },
  "language_info": {
   "codemirror_mode": {
    "name": "ipython",
    "version": 3
   },
   "file_extension": ".py",
   "mimetype": "text/x-python",
   "name": "python",
   "nbconvert_exporter": "python",
   "pygments_lexer": "ipython3",
   "version": "3.8.10"
  }
 },
 "nbformat": 4,
 "nbformat_minor": 4
}

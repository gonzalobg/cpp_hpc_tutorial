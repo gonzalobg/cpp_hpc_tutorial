{
 "cells": [
  {
   "cell_type": "markdown",
   "metadata": {},
   "source": [
    "Accelerating portable HPC Applications with Standard C++\n",
    "===\n",
    "\n",
    "# Lab 1: DAXPY\n",
    "\n",
    "In this tutorial we will familiarize ourselves with the C++ parallel algorithms and related features by implementing Double-precision AX Plus Y (DAXPY): $A \\cdot X + Y$, one of the main functions in the standard Basic Linear Algebra Subroutines (BLAS) library.\n",
    "\n",
    "The operation is a combination of scalar multiplication and vector adition. It takes two vectors of 64-bit floats, `x` and `y` and a scalar value `a`.\n",
    "It multiplies each element `x[i]` by `a` and adds the result to `y[i]`.\n",
    "\n",
    "A working implementation is provided in [starting_point.cpp].\n",
    "Please take 2-3 minutes to skim through it.\n",
    "\n",
    "## Validating solutions\n",
    "\n",
    "For all the exercises, we assume that initially the values are `x[i] = i` and `y[i] = 2`.\n",
    "The `check` function then verifies the effect of applying `daxpy` to these two vectors.\n",
    "\n",
    "We will run this check always once\n",
    "\n",
    "## Sequential implementation\n",
    "\n",
    "The \"core\" of the sequential implementation provided in [starting_point.cpp] is split into two separate functions:\n",
    "\n",
    "\n",
    "```c++\n",
    "/// Intialize vectors `x` and `y`: raw loop sequential version\n",
    "void initialize(std::vector<double> &x, std::vector<double> &y) {\n",
    "  assert(x.size() == y.size());\n",
    "  for (std::size_t i = 0; i < x.size(); ++i) {\n",
    "    x[i] = (double)i;\n",
    "    y[i] = 2.;\n",
    "  }\n",
    "}\n",
    "\n",
    "/// DAXPY: AX + Y: raw loop sequential version\n",
    "void daxpy(double a, std::vector<double> const &x, std::vector<double> &y) {\n",
    "  assert(x.size() == y.size());\n",
    "  for (std::size_t i = 0; i < y.size(); ++i) {\n",
    "    y[i] += a * x[i];\n",
    "  }\n",
    "}\n",
    "```\n",
    "\n",
    "We initialize the vectors to the `x[i] = i` and `y[i] = 2.` expressions covered above for testing purposes.\n",
    "\n",
    "The `daxpy` function implements a loop over all vector elements, reading from both `x` and `y` and writing the solution to `y`.\n",
    "\n",
    "[starting_point.cpp]: ./starting_point.cpp\n",
    "\n",
    "## Getting started\n",
    "\n",
    "Let's start by checking the version of some of the compilers installed in the image:\n"
   ]
  },
  {
   "cell_type": "code",
   "execution_count": null,
   "metadata": {},
   "outputs": [],
   "source": [
    "!g++ --version\n",
    "!clang++ --version\n",
    "!nvc++ --version"
   ]
  },
  {
   "cell_type": "markdown",
   "metadata": {},
   "source": [
    "---\n",
    "\n",
    "Now let's compile and run the starting point:"
   ]
  },
  {
   "cell_type": "code",
   "execution_count": null,
   "metadata": {},
   "outputs": [],
   "source": [
    "!g++ -std=c++20 -o daxpy starting_point.cpp\n",
    "!./daxpy 1000000"
   ]
  },
  {
   "cell_type": "markdown",
   "metadata": {},
   "source": [
    "Here the `-std=c++20` controls the C++ language version.\n",
    "\n",
    "Let's try again with optimizations using `-Ofast`, disabling debug checks `-DNDEBUG`, and compiling for the current CPU using `-march=native`:"
   ]
  },
  {
   "cell_type": "code",
   "execution_count": null,
   "metadata": {},
   "outputs": [],
   "source": [
    "!g++ -std=c++20 -Ofast -march=native -DNDEBUG -o daxpy starting_point.cpp\n",
    "!./daxpy 10000000"
   ]
  },
  {
   "cell_type": "markdown",
   "metadata": {},
   "source": [
    "## Exercise 1: from raw DAXPY loop to serial C++ transform algorithm\n",
    "\n",
    "The goal of this first exercise is to re-write the raw DAXPY loop using the C++ standard library `transform` algorithms (see the documentation of [transform] to pick the right overload - number (3)).\n",
    "\n",
    "[transform]: https://en.cppreference.com/w/cpp/algorithm/transform\n",
    "\n",
    "A template for the solution is provided in [exercise1.cpp]. The `TODO`s indicate the parts of the template that must be completed.\n",
    "To complete this first exercise, the `daxpy` function needs to be rewritten to use the C++ standatd library algorithms and this will require adding some headers:\n",
    "\n",
    "```c++\n",
    "#include <chrono>\n",
    "// TODO: add C++ standard library includes as necessary\n",
    "\n",
    "/// DAXPY: AX + Y: sequential algorithm version\n",
    "void daxpy(double a, std::vector<double> const &x, std::vector<double> &y) {\n",
    "  assert(x.size() == y.size());\n",
    "  // TODO: Implement using SEQUENTIAL algorithm\n",
    "  // ...\n",
    "}\n",
    "```\n",
    "\n",
    "[exercise1.cpp]: ./exercise1.cpp\n",
    "\n",
    "The example compiles and runs as provided, but it produces incorrect results due to the incomplete `daxpy` implementation.\n",
    "Once you fix it, the following blocks should compile and run correctly:\n"
   ]
  },
  {
   "cell_type": "code",
   "execution_count": null,
   "metadata": {},
   "outputs": [],
   "source": [
    "!g++ -std=c++20 -Ofast -march=native -DNDEBUG -o daxpy exercise1.cpp\n",
    "!./daxpy 1000000"
   ]
  },
  {
   "cell_type": "code",
   "execution_count": null,
   "metadata": {},
   "outputs": [],
   "source": [
    "!clang++ -std=c++20 -Ofast -march=native -DNDEBUG -o daxpy exercise1.cpp\n",
    "!./daxpy 1000000"
   ]
  },
  {
   "cell_type": "code",
   "execution_count": null,
   "metadata": {},
   "outputs": [],
   "source": [
    "!nvc++ -std=c++20 -O4 -fast -march=native -Mllvm-fast -DNDEBUG -o daxpy exercise1.cpp\n",
    "!./daxpy 1000000"
   ]
  },
  {
   "cell_type": "markdown",
   "metadata": {},
   "source": [
    "### Solutions Exercise 1\n",
    "\n",
    "The solutions for each example are available in the [`solutions/`] sub-directory.\n",
    "\n",
    "[`solutions/`]: ./solutions\n",
    "\n",
    "The solution for this first exercise is in [`solutions/exercise1.cpp`].\n",
    "\n",
    "[`solutions/exercise1.cpp`]: ./solutions/exercise1.cpp\n",
    "\n",
    "The following blocks compile and run the solutions for Exercise 1 using different compilers."
   ]
  },
  {
   "cell_type": "code",
   "execution_count": null,
   "metadata": {},
   "outputs": [],
   "source": [
    "!g++ -std=c++20 -Ofast -march=native -DNDEBUG -o daxpy solutions/exercise1.cpp\n",
    "!./daxpy 1000000"
   ]
  },
  {
   "cell_type": "code",
   "execution_count": null,
   "metadata": {},
   "outputs": [],
   "source": [
    "!clang++ -std=c++20 -Ofast -march=native -DNDEBUG -o daxpy solutions/exercise1.cpp\n",
    "!./daxpy 1000000"
   ]
  },
  {
   "cell_type": "code",
   "execution_count": null,
   "metadata": {},
   "outputs": [],
   "source": [
    "!nvc++ -std=c++20 -Ofast -march=native -DNDEBUG -o daxpy solutions/exercise1.cpp\n",
    "!./daxpy 1000000"
   ]
  },
  {
   "cell_type": "markdown",
   "metadata": {},
   "source": [
    "# Exercise 2: from raw initialization to `std::fill_n` and `std::for_each_n`\n",
    "\n",
    "In Exercise 3 we will parallelize `daxpy` to allow it to run on accelerator devices like a GPUs.\n",
    "When doing so, it is important to avoid unnecessary memory migrations across devices.\n",
    "\n",
    "The goal of this exercise is to initialize the memory using the standard library algorithms, so that when we parallelize the initialization in Exercise 3, it will happen on the accelerator device itself.\n",
    "\n",
    "Since we need to initialize two vectors - `x` and `y` - lets use a different approach to initialize each:\n",
    "\n",
    "* Initialize `x` using the `std::for_each_n` algorithm (see [for_each_n] documentation) combined with `std::views::iota` (see [iota_view] documentation).\n",
    "* Initialize `y` using the `std::fill_n` algorithm (see [fill_n] documentation), which is ideal for initializing data to the same value.\n",
    "\n",
    "[fill_n]: https://en.cppreference.com/w/cpp/algorithm/fill_n \n",
    "[for_each_n]: https://en.cppreference.com/w/cpp/algorithm/for_each_n \n",
    "[iota_view]: https://en.cppreference.com/w/cpp/ranges/iota_view\n",
    "\n",
    "A template for the solution is provided in [exercise2.cpp]. The `TODO`s indicate the parts of the template that must be completed.\n",
    "To complete this first exercise, the `initialize` function needs to be rewritten to use the C++ standatd library algorithms and this will require adding some headers for accessing `std::views::iota`:\n",
    "\n",
    "```c++\n",
    "#include <algorithm>\n",
    "// TODO: add C++ standard library includes as necessary\n",
    "\n",
    "/// Intialize vectors `x` and `y`: raw loop sequential version\n",
    "void initialize(std::vector<double> &x, std::vector<double> &y) {\n",
    "  assert(x.size() == y.size());\n",
    "  // TODO: Initialize `x` using SEQUENTIAL std::for_each_n algorithm with std::views::iota\n",
    "  // TODO: Initialize `y` using SEQUENTIAL std::fill_n algorithm\n",
    "}\n",
    "```\n",
    "\n",
    "[exercise2.cpp]: ./exercise2.cpp\n",
    "\n",
    "The example compiles and runs as provided, but it produces incorrect results due to the incomplete `initialize` implementation.\n",
    "In the compilation commands below, the C++ standard version is now C++20, to enable the use of `views::iota`.\n",
    "\n",
    "Once you fix the `initialize` implementation, the following blocks should compile and run correctly:"
   ]
  },
  {
   "cell_type": "code",
   "execution_count": null,
   "metadata": {},
   "outputs": [],
   "source": [
    "!g++ -std=c++20 -Ofast -march=native -DNDEBUG -o daxpy exercise2.cpp\n",
    "!./daxpy 1000000"
   ]
  },
  {
   "cell_type": "code",
   "execution_count": null,
   "metadata": {},
   "outputs": [],
   "source": [
    "!clang++ -std=c++20 -Ofast -march=native -DNDEBUG -isystem/usr/local/range-v3/include -o daxpy exercise2.cpp\n",
    "!./daxpy 1000000"
   ]
  },
  {
   "cell_type": "code",
   "execution_count": null,
   "metadata": {},
   "outputs": [],
   "source": [
    "!nvc++ -std=c++20 -Ofast -march=native -DNDEBUG -o daxpy exercise2.cpp\n",
    "!./daxpy 1000000"
   ]
  },
  {
   "cell_type": "markdown",
   "metadata": {},
   "source": [
    "### Solutions Exercise 2\n",
    "\n",
    "The solution for this exercise is in [`solutions/exercise2.cpp`].\n",
    "\n",
    "[`solutions/exercise2.cpp`]: ./solutions/exercise2.cpp\n",
    "\n",
    "The following compiles and runs the solutions for Exercise 1 using different compilers."
   ]
  },
  {
   "cell_type": "code",
   "execution_count": null,
   "metadata": {},
   "outputs": [],
   "source": [
    "# Using iota range for initialize \n",
    "!g++ -std=c++20 -Ofast -march=native -DNDEBUG -o daxpy solutions/exercise2.cpp\n",
    "!./daxpy 1000000"
   ]
  },
  {
   "cell_type": "code",
   "execution_count": null,
   "metadata": {},
   "outputs": [],
   "source": [
    "!clang++ -std=c++20 -Ofast -march=native -DNDEBUG -o daxpy solutions/exercise2.cpp\n",
    "!./daxpy 1000000"
   ]
  },
  {
   "cell_type": "code",
   "execution_count": null,
   "metadata": {},
   "outputs": [],
   "source": [
    "!nvc++ -std=c++20 -Ofast -march=native -DNDEBUG -o daxpy solutions/exercise2.cpp\n",
    "!./daxpy 1000000"
   ]
  },
  {
   "cell_type": "markdown",
   "metadata": {},
   "source": [
    "## Exercise 3: parallelizing DAXPY and Initialization using C++ parallel algorithms\n",
    "\n",
    "The goal of this final exercise in this section is to parallelize the `initialize` and `daxpy` functions to compute the results in parallel using CPUs or GPUs.\n",
    "\n",
    "A template for the solution is provided in [exercise3.cpp].\n",
    "\n",
    "```c++\n",
    "#include <ranges>\n",
    "// TODO: add C++ standard library includes as necessary\n",
    "\n",
    "/// Intialize vectors `x` and `y`: parallel algorithm version\n",
    "void initialize(std::vector<double> &x, std::vector<double> &y) {\n",
    "  assert(x.size() == y.size());\n",
    "  // TODO: Parallelize initialization of `x`\n",
    "  auto ints = std::views::iota(0);\n",
    "  std::for_each_n(ints.begin(), x.size(), [&x)](int i) { x[i] = (double)i; });\n",
    "  // TODO: Parallelize initialization of `y`\n",
    "  std::fill_n(y.begin(), y.size(), 2.);\n",
    "}\n",
    "\n",
    "/// DAXPY: AX + Y: sequential algorithm version\n",
    "void daxpy(double a, std::vector<double> const &x, std::vector<double> &y) {\n",
    "  assert(x.size() == y.size());\n",
    "  /// TODO: Parallelize DAXPY computation\n",
    "  std::transform(x.begin(), x.end(), y.begin(), y.begin(),\n",
    "                 [&](double x, double y) { return a * x + y; });\n",
    "}\n",
    "```\n",
    "\n",
    "[exercise3.cpp]: ./exercise3.cpp\n",
    "\n",
    "Compiling with support for the parallel algorithms requires:\n",
    "* `g++` and `clang++`: link against Intel TBB with `-ltbb`\n",
    "* `nvc++`: compile and link with `-stdpar` flag:\n",
    "  * `-stdpar=multicore` runs parallel algorithms on CPUs\n",
    "  * `-stdpar=gpu` runs parallel algorithms on GPUs, further `-gpu=` flags control the GPU target\n",
    "  * See the [Parallel Algorithms Documentation](https://docs.nvidia.com/hpc-sdk/compilers/c++-parallel-algorithms/index.html).\n",
    "    \n",
    "The example compiles, runs, and produces correct results as provided.\n",
    "Parallelize it using the C++ standard library parallel algorithms and ensure that the results are still correct."
   ]
  },
  {
   "cell_type": "code",
   "execution_count": null,
   "metadata": {},
   "outputs": [],
   "source": [
    "!g++ -std=c++20 -Ofast -march=native -DNDEBUG -o daxpy exercise3.cpp -ltbb\n",
    "!./daxpy 1000000"
   ]
  },
  {
   "cell_type": "code",
   "execution_count": null,
   "metadata": {},
   "outputs": [],
   "source": [
    "!clang++ -std=c++20 -Ofast -march=native -DNDEBUG -o daxpy exercise3.cpp -ltbb\n",
    "!./daxpy 1000000"
   ]
  },
  {
   "cell_type": "code",
   "execution_count": null,
   "metadata": {},
   "outputs": [],
   "source": [
    "!nvc++ -std=c++20 -Ofast -march=native -DNDEBUG -stdpar=multicore -o daxpy exercise3.cpp\n",
    "!./daxpy 1000000"
   ]
  },
  {
   "cell_type": "code",
   "execution_count": null,
   "metadata": {},
   "outputs": [],
   "source": [
    "!nvc++ -std=c++20 -Ofast -march=native -DNDEBUG -stdpar=gpu -o daxpy exercise3.cpp\n",
    "!./daxpy 1000000"
   ]
  },
  {
   "cell_type": "markdown",
   "metadata": {
    "tags": []
   },
   "source": [
    "### Solutions for Exercise 3\n",
    "\n",
    "The solution for this exercise is in [`solutions/exercise3.cpp`].\n",
    "\n",
    "[`solutions/exercise3.cpp`]: ./solutions/exercise3.cpp\n",
    "\n",
    "The following blocks compile and run the solutions for Exercise 3 using different compilers on the CPU.\n",
    "\n",
    "The last block compiles and runs the solution for Exercise 3 on the GPU. If you get an error, make sure that the lambda captures are captiruing scalars by value, and that when capturing a vector to access its data, one captures a pointer to its data by value as well using `[x = x.data()]`."
   ]
  },
  {
   "cell_type": "code",
   "execution_count": null,
   "metadata": {},
   "outputs": [],
   "source": [
    "!g++ -std=c++20 -Ofast -march=native -DNDEBUG -o daxpy solutions/exercise3.cpp -ltbb\n",
    "!./daxpy 1000000"
   ]
  },
  {
   "cell_type": "code",
   "execution_count": null,
   "metadata": {},
   "outputs": [],
   "source": [
    "!clang++ -std=c++20 -Ofast -march=native -DNDEBUG -o daxpy solutions/exercise3.cpp -ltbb\n",
    "!./daxpy 1000000"
   ]
  },
  {
   "cell_type": "code",
   "execution_count": null,
   "metadata": {},
   "outputs": [],
   "source": [
    "!nvc++ -std=c++20 -Ofast -march=native -DNDEBUG -stdpar=multicore -o daxpy solutions/exercise3.cpp\n",
    "!./daxpy 1000000"
   ]
  },
  {
   "cell_type": "code",
   "execution_count": null,
   "metadata": {
    "tags": []
   },
   "outputs": [],
   "source": [
    "!nvc++ -std=c++20 -Ofast -march=native -DNDEBUG -stdpar=gpu -o daxpy solutions/exercise3.cpp\n",
    "!./daxpy 1000000"
   ]
  }
 ],
 "metadata": {
  "kernelspec": {
   "display_name": "Python 3 (ipykernel)",
   "language": "python",
   "name": "python3"
  },
  "language_info": {
   "codemirror_mode": {
    "name": "ipython",
    "version": 3
   },
   "file_extension": ".py",
   "mimetype": "text/x-python",
   "name": "python",
   "nbconvert_exporter": "python",
   "pygments_lexer": "ipython3",
   "version": "3.10.6"
  }
 },
 "nbformat": 4,
 "nbformat_minor": 4
}

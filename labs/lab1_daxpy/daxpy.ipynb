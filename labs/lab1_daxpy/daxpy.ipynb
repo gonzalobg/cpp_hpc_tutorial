{
 "cells": [
  {
   "cell_type": "markdown",
   "metadata": {},
   "source": [
    "Accelerating portable HPC Applications with Standard C++\n",
    "===\n",
    "\n",
    "# Lab 1: DAXPY\n",
    "\n",
    "In this tutorial we will familiarize ourselves with the C++ parallel algorithms and related features by implementing Double-precision AX Plus Y (DAXPY): $A \\cdot X + Y$, one of the main functions in the standard Basic Linear Algebra Subroutines (BLAS) library.\n",
    "\n",
    "The operation is a combination of scalar multiplication and vector adition. It takes two vectors of 64-bit floats, `x` and `y` and a scalar value `a`.\n",
    "It multiplies each element `x[i]` by `a` and adds the result to `y[i]`.\n",
    "\n",
    "A working implementation is provided in [starting_point.cpp].\n",
    "Please take 2-3 minutes to skim through it.\n",
    "\n",
    "## Validating solutions\n",
    "\n",
    "For all the exercises, we assume that initially the values are `x[i] = i` and `y[i] = 2`.\n",
    "The `check` function then verifies the effect of applying `daxpy` to these two vectors.\n",
    "\n",
    "We will run this check always once\n",
    "\n",
    "## Sequential implementation\n",
    "\n",
    "The \"core\" of the sequential implementation provided in [starting_point.cpp] is split into two separate functions:\n",
    "\n",
    "\n",
    "```c++\n",
    "/// Initializes the vectors `x` and `y`\n",
    "void initialize(std::vector<double> &x, std::vector<double> &y) {\n",
    "  assert(x.size() == y.size());\n",
    "  for (std::size_t i = 0; i < x.size(); ++i) {\n",
    "    x[i] = (double)i;\n",
    "    y[i] = 2.;\n",
    "  }\n",
    "}\n",
    "\n",
    "/// DAXPY: AX + Y\n",
    "void daxpy(double a, std::vector<double> const &x, std::vector<double> &y) {\n",
    "  assert(x.size() == y.size());\n",
    "  for (std::size_t i = 0; i < y.size(); ++i) {\n",
    "    y[i] += a * x[i];\n",
    "  }\n",
    "}\n",
    "```\n",
    "\n",
    "We initialize the vectors to the `x[i] = i` and `y[i] = 2.` expressions covered above for testing purposes.\n",
    "\n",
    "The `daxpy` function implements a loop over all vector elements, reading from both `x` and `y` and writing the solution to `y`.\n",
    "\n",
    "[starting_point.cpp]: ./starting_point.cpp\n",
    "\n",
    "## Getting started\n",
    "\n",
    "Let's start by checking the version of some of the compilers installed in the image:\n"
   ]
  },
  {
   "cell_type": "code",
   "execution_count": null,
   "metadata": {},
   "outputs": [],
   "source": [
    "!g++ --version\n",
    "!clang++ --version\n",
    "!nvc++ --version\n",
    "#!dpcpp --version"
   ]
  },
  {
   "cell_type": "markdown",
   "metadata": {},
   "source": [
    "---\n",
    "\n",
    "Now let's compile and run the starting point:"
   ]
  },
  {
   "cell_type": "code",
   "execution_count": null,
   "metadata": {},
   "outputs": [],
   "source": [
    "!g++ -std=c++11 -o daxpy starting_point.cpp\n",
    "!./daxpy 1000000"
   ]
  },
  {
   "cell_type": "markdown",
   "metadata": {},
   "source": [
    "Here the `-std=c++11` controls the C++ language version.\n",
    "\n",
    "Let's try again with optimizations using `-Ofast` and `-DNDEBUG` (to remove debug checks):"
   ]
  },
  {
   "cell_type": "code",
   "execution_count": null,
   "metadata": {},
   "outputs": [],
   "source": [
    "!g++ -std=c++11 -Ofast -DNDEBUG -o daxpy starting_point.cpp\n",
    "!./daxpy 10000000"
   ]
  },
  {
   "cell_type": "markdown",
   "metadata": {},
   "source": [
    "## Exercise 0: from raw DAXPY loop to serial C++ algorithm\n",
    "\n",
    "The goal of this first exercise is to re-write the raw DAXPY loop using the C++ standard library algorithms:\n",
    "\n",
    "A template for the solution is provided in [exercise0.cpp]. The `TODO`s indicate the parts of the template that must be completed.\n",
    "To complete this first exercise, the `daxpy` function needs to be rewritten to use the C++ standatd library algorithms and this will require adding some headers:\n",
    "\n",
    "```c++\n",
    "#include <chrono>\n",
    "// TODO: add some headers here\n",
    "\n",
    "void daxpy(double a, std::vector<double> const &x, std::vector<double> &y) {\n",
    "  assert(x.size() == y.size());\n",
    "  // TODO: Implement using the C++ Standard Template Library algorithms\n",
    "  // ...\n",
    "}\n",
    "```\n",
    "\n",
    "[exercise0.cpp]: ./exercise0.cpp\n",
    "\n",
    "The example compiles and runs as provided, but it produces incorrect results due to the incomplete `daxpy` implementation.\n",
    "Once you fix it, the following block should compile and run correctly:\n"
   ]
  },
  {
   "cell_type": "code",
   "execution_count": null,
   "metadata": {},
   "outputs": [],
   "source": [
    "!g++ -std=c++20 -Ofast -DNDEBUG -o daxpy exercise0.cpp\n",
    "!./daxpy 1000000"
   ]
  },
  {
   "cell_type": "code",
   "execution_count": null,
   "metadata": {},
   "outputs": [],
   "source": [
    "!clang++ -std=c++20 -Ofast -DNDEBUG -o daxpy exercise0.cpp\n",
    "!./daxpy 1000000"
   ]
  },
  {
   "cell_type": "code",
   "execution_count": null,
   "metadata": {},
   "outputs": [],
   "source": [
    "!nvc++ -std=c++20 -fast -DNDEBUG -o daxpy exercise0.cpp\n",
    "!./daxpy 1000000"
   ]
  },
  {
   "cell_type": "code",
   "execution_count": null,
   "metadata": {},
   "outputs": [],
   "source": [
    "#!dpcpp -std=c++20 -Ofast -DNDEBUG -o daxpy exercise0.cpp\n",
    "#!./daxpy 1000000"
   ]
  },
  {
   "cell_type": "markdown",
   "metadata": {},
   "source": [
    "### Solutions Exercise 0\n",
    "\n",
    "The solutions for each example are available in the `solutions/` sub-directory.\n",
    "\n",
    "The following compiles and runs the solutions for Exercise 0 using different compilers and C++ standard versions."
   ]
  },
  {
   "cell_type": "code",
   "execution_count": null,
   "metadata": {},
   "outputs": [],
   "source": [
    "!g++ -std=c++17 -Ofast -DNDEBUG -o daxpy solutions/exercise0.cpp\n",
    "!./daxpy 1000000"
   ]
  },
  {
   "cell_type": "code",
   "execution_count": null,
   "metadata": {},
   "outputs": [],
   "source": [
    "!clang++ -std=c++17 -Ofast -DNDEBUG -o daxpy solutions/exercise0.cpp\n",
    "!./daxpy 1000000"
   ]
  },
  {
   "cell_type": "code",
   "execution_count": null,
   "metadata": {},
   "outputs": [],
   "source": [
    "!nvc++ -std=c++17 -fast -DNDEBUG -o daxpy solutions/exercise0.cpp\n",
    "!./daxpy 1000000"
   ]
  },
  {
   "cell_type": "code",
   "execution_count": null,
   "metadata": {},
   "outputs": [],
   "source": [
    "#!dpcpp -std=c++20 -Ofast -DNDEBUG -o daxpy solutions/exercise0.cpp\n",
    "#!./daxpy 1000000"
   ]
  },
  {
   "cell_type": "markdown",
   "metadata": {},
   "source": [
    "# Exercise 1\n",
    "\n",
    "Later in this tutorial we will move towards running `daxpy` on an accelerator device like a GPU.\n",
    "Then it becomes important to keep the memory from unnecessarily being accessed by different devices.\n",
    "\n",
    "The goal of this exercise is to re-write the initialization function using the C++ standard library algorithms, so that we can later perform the initialization on the device itself.\n",
    "\n",
    "A template for the solution is provided in [exercise1.cpp]. If you have completed Exercise 0, it is no longer necessary to modify the includes much.\n",
    "\n",
    "However, for the reasons mentioned in the presentation about \"Indexing, Ranges and Views\", we will be using range-v3 as a fallback for some compilers like clang, and we modify the includes as follows:\n",
    "\n",
    "```c++\n",
    "#include <algorithm>\n",
    "#if defined(__clang__)\n",
    "  // clang does not support libstdc++ ranges\n",
    "  #include <range/v3/all.hpp>\n",
    "  namespace views = ranges::views;\n",
    "#elif __cplusplus >= 202002L\n",
    "  #include <ranges>\n",
    "  namespace views = std::views;\n",
    "  namespace ranges = std::ranges;\n",
    "#endif\n",
    "```\n",
    "\n",
    "Notice that in the compiler invocation below for `clang++` we will be including the range-v3 library as a system library using `-isystem/usr/local/range-v3/include`.\n",
    "\n",
    "The core of the exercise consists in implementing the `initialize` function using the \"indexing\" techniques discussed in the presentation:\n",
    "\n",
    "```c++\n",
    "void initialize(std::vector<double> &x, std::vector<double> &y) {\n",
    "  assert(x.size() == y.size());\n",
    "  // TODO: Implement using the C++ Standard Template Library algorithms\n",
    "  // ...\n",
    "}\n",
    "```\n",
    "\n",
    "[exercise1.cpp]: ./exercise1.cpp"
   ]
  },
  {
   "cell_type": "code",
   "execution_count": null,
   "metadata": {},
   "outputs": [],
   "source": [
    "!g++ -std=c++20 -Ofast -DNDEBUG -o daxpy exercise1.cpp\n",
    "!./daxpy 1000000"
   ]
  },
  {
   "cell_type": "code",
   "execution_count": null,
   "metadata": {},
   "outputs": [],
   "source": [
    "!clang++ -std=c++20 -Ofast -DNDEBUG -isystem/usr/local/range-v3/include -o daxpy exercise1.cpp\n",
    "!./daxpy 1000000"
   ]
  },
  {
   "cell_type": "code",
   "execution_count": null,
   "metadata": {},
   "outputs": [],
   "source": [
    "!nvc++ -std=c++20 -fast -DNDEBUG -o daxpy exercise1.cpp\n",
    "!./daxpy 1000000"
   ]
  },
  {
   "cell_type": "code",
   "execution_count": null,
   "metadata": {},
   "outputs": [],
   "source": [
    "#!dpcpp -std=c++20 -Ofast -DNDEBUG -isystem/usr/local/range-v3/include -o daxpy exercise1.cpp\n",
    "#!./daxpy 1000000"
   ]
  },
  {
   "cell_type": "markdown",
   "metadata": {},
   "source": [
    "### Solutions Exercise 1\n",
    "\n",
    "There are two solutions provided showing different ways of doing indexing:"
   ]
  },
  {
   "cell_type": "code",
   "execution_count": null,
   "metadata": {},
   "outputs": [],
   "source": [
    "# Using iota range for initialize \n",
    "!g++ -std=c++17 -Ofast -DNDEBUG -o daxpy solutions/exercise1.cpp\n",
    "!./daxpy 1000000"
   ]
  },
  {
   "cell_type": "code",
   "execution_count": null,
   "metadata": {},
   "outputs": [],
   "source": [
    "!clang++ -std=c++17 -Ofast -DNDEBUG -isystem/usr/local/range-v3/include -o daxpy solutions/exercise1.cpp\n",
    "!./daxpy 1000000"
   ]
  },
  {
   "cell_type": "code",
   "execution_count": null,
   "metadata": {},
   "outputs": [],
   "source": [
    "!nvc++ -std=c++17 -fast -DNDEBUG -o daxpy solutions/exercise1.cpp\n",
    "!./daxpy 1000000"
   ]
  },
  {
   "cell_type": "code",
   "execution_count": null,
   "metadata": {},
   "outputs": [],
   "source": [
    "!dpcpp -std=c++17 -Ofast -DNDEBUG -isystem/usr/local/range-v3/include -o daxpy solutions/exercise1.cpp\n",
    "!./daxpy 1000000"
   ]
  },
  {
   "cell_type": "code",
   "execution_count": null,
   "metadata": {},
   "outputs": [],
   "source": [
    "# Using address-based indexing for daxpy\n",
    "!g++ -std=c++17 -Ofast -DNDEBUG -o daxpy solutions/exercise1_indices.cpp\n",
    "!./daxpy 1000000"
   ]
  },
  {
   "cell_type": "code",
   "execution_count": null,
   "metadata": {},
   "outputs": [],
   "source": [
    "!clang++ -std=c++17 -Ofast -DNDEBUG -isystem/usr/local/range-v3/include -o daxpy solutions/exercise1_indices.cpp\n",
    "!./daxpy 1000000"
   ]
  },
  {
   "cell_type": "code",
   "execution_count": null,
   "metadata": {},
   "outputs": [],
   "source": [
    "!nvc++ -std=c++17 -fast -DNDEBUG -o daxpy solutions/exercise1_indices.cpp\n",
    "!./daxpy 1000000"
   ]
  },
  {
   "cell_type": "code",
   "execution_count": null,
   "metadata": {},
   "outputs": [],
   "source": [
    "#!dpcpp -std=c++17 -Ofast -DNDEBUG -isystem/usr/local/range-v3/include -o daxpy solutions/exercise1_indices.cpp\n",
    "#!./daxpy 1000000"
   ]
  },
  {
   "cell_type": "markdown",
   "metadata": {},
   "source": [
    "## Exercise 2: parallelizing DAXPY using C++ parallel algorithms\n",
    "\n",
    "The goal of this final exercise in this section is to parallelize the `initialize` and `daxpy` functions to compute the results in parallel using CPUs or GPUs.\n",
    "\n",
    "A template for the solution is provided in [exercise2.cpp].\n",
    "\n",
    "```c++\n",
    "#include <algorithm>\n",
    "// TODO: add C++ standard library includes as necessary\n",
    "\n",
    "void initialize(std::vector<double> &x, std::vector<double> &y) {\n",
    "  assert(x.size() == y.size());\n",
    "  // TODO: Implement using the C++ Standard Template Library parallel algorithms\n",
    "  // ...\n",
    "}\n",
    "\n",
    "void daxpy(double a, std::vector<double> const &x, std::vector<double> &y) {\n",
    "  assert(x.size() == y.size());\n",
    "  // TODO: Implement using the C++ Standard Template Library parallel algorithms\n",
    "  // ...\n",
    "}\n",
    "```\n",
    "\n",
    "[exercise2.cpp]: ./exercise2.cpp\n",
    "\n",
    "Compiling for support for parallel algorithms is slightly more tricky.\n",
    "\n",
    "There are different implementations of the C++ standard library:\n",
    "\n",
    "* `libstdc++`: GNU toolchain implementation, default on most Linux distributions\n",
    "* `libc++`: LLVM/clang toolchain implementation, default on MacOS\n",
    "* `libnv++`: NVIDIA HPC SDK implementation\n",
    "* etc.\n",
    "\n",
    "From the above ones, `libc++` does not implement the C++17 parallel algorithms yet, but on Linux clang uses `libstdc++` by default, so that's ok.\n",
    "However `clang++` does not support using `libstdc++` with C++20 mode, so we will restrict ourselves to C++17 when using clang for now.\n",
    "\n",
    "To enable the parallel algorithms in the different standard libraries:\n",
    "\n",
    "* `libstdc++`:\n",
    "    * requires `-std=c++17` or newer\n",
    "    * requires Intel TBB to be:\n",
    "        * in the include path\n",
    "        * linked against the final binary using `-ltbb`\n",
    "* `nvc++`:\n",
    "    * requires `-std=c++17` or newer\n",
    "    * requires `-stdpar` flag\n",
    "        * `-stdpar=multicore` runs parallel algorithms on CPUs\n",
    "        * `-stdpar=gpu` runs parallel algorithms on GPUs, further `-gpu=` flags control the GPU target\n",
    "        * See the [Parallel Algorithms Documentation](https://docs.nvidia.com/hpc-sdk/compilers/c++-parallel-algorithms/index.html). Notice that when using `-stdpar=gpu` further restrictions apply.\n",
    "    \n",
    "\n",
    "* `g++` (GCC): requires `-std=c++17` or newer, the Intel TBB library must be on the include path, and the binary must be linked against it using `-ltbb`\n",
    "* `clang++` (LLVM): needs to use the GCC C++ standard library, libstdc++, since LLVM's C++ standard library (libc++) does not support parallel algorithms yet. When using `libstdc++`, same as for GCC applies. Unfortunately, clang does not support using libstdc++ with C++20, so C++17 must be used instead. To use clang with ranges, include the `range-v3` library using `-isystem/usr/local/include`.\n",
    "* `nvc++` (NVIDIA): requires `-std=c++17` or newer, `-stdpar=gpu` or `-stdpar=multicore` control which device runs the parallel algorithms.\n",
    "\n",
    "Examples: "
   ]
  },
  {
   "cell_type": "code",
   "execution_count": null,
   "metadata": {},
   "outputs": [],
   "source": [
    "!g++ -std=c++20 -Ofast -DNDEBUG -o daxpy exercise2.cpp -ltbb\n",
    "!./daxpy 100000000"
   ]
  },
  {
   "cell_type": "markdown",
   "metadata": {},
   "source": [
    "### Solutions for Exercise 2"
   ]
  },
  {
   "cell_type": "code",
   "execution_count": null,
   "metadata": {},
   "outputs": [],
   "source": [
    "!g++ -std=c++20 -Ofast -DNDEBUG -o daxpy solutions/exercise2.cpp -ltbb\n",
    "!./daxpy 100000000"
   ]
  },
  {
   "cell_type": "code",
   "execution_count": null,
   "metadata": {},
   "outputs": [],
   "source": [
    "!clang++ -std=c++17 -Ofast -DNDEBUG -isystem/usr/local/range-v3/include -o daxpy solutions/exercise2.cpp -ltbb\n",
    "!./daxpy 100000000"
   ]
  },
  {
   "cell_type": "code",
   "execution_count": null,
   "metadata": {},
   "outputs": [],
   "source": [
    "!nvc++ -stdpar=multicore -std=c++17 -fast -Mllvm-fast -DNDEBUG -o daxpy solutions/exercise2.cpp\n",
    "!./daxpy 100000000"
   ]
  },
  {
   "cell_type": "code",
   "execution_count": null,
   "metadata": {},
   "outputs": [],
   "source": [
    "!nvc++ -stdpar=gpu -std=c++20 -fast -Mllvm-fast -DNDEBUG -gpu=cc80 -o daxpy solutions/exercise2.cpp\n",
    "!./daxpy 100000000"
   ]
  },
  {
   "cell_type": "code",
   "execution_count": null,
   "metadata": {},
   "outputs": [],
   "source": [
    "#!dpcpp -std=c++17 -Ofast -DNDEBUG -isystem/usr/local/range-v3/include -o daxpy solutions/exercise2.cpp -ltbb\n",
    "#!./daxpy 1000000"
   ]
  }
 ],
 "metadata": {
  "kernelspec": {
   "display_name": "Python 3 (ipykernel)",
   "language": "python",
   "name": "python3"
  },
  "language_info": {
   "codemirror_mode": {
    "name": "ipython",
    "version": 3
   },
   "file_extension": ".py",
   "mimetype": "text/x-python",
   "name": "python",
   "nbconvert_exporter": "python",
   "pygments_lexer": "ipython3",
   "version": "3.8.10"
  }
 },
 "nbformat": 4,
 "nbformat_minor": 4
}

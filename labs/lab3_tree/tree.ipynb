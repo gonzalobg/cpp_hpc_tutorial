{
 "cells": [
  {
   "cell_type": "markdown",
   "metadata": {},
   "source": [
    "Accelerating portable HPC Applications with Standard C++\n",
    "===\n",
    "\n",
    "# Lab 3: Parallel Tree Construction\n",
    "\n",
    "In this tutorial we will learn how to implement starvation-free concurrent algorithms by looking at parallel tree construction (see slides).\n",
    "\n",
    "A working implementation is provided in [starting_point.cpp].\n",
    "Please take 5 minutes to skim through it.\n",
    "\n",
    "Before starting we need to obtain a collection of books to run the example with:\n",
    "\n",
    "[starting_point.cpp]: ./starting_point.cpp"
   ]
  },
  {
   "cell_type": "code",
   "execution_count": 1,
   "metadata": {},
   "outputs": [
    {
     "name": "stdout",
     "output_type": "stream",
     "text": [
      "+ curl -O -# https://www.gutenberg.org/files/2600/2600-0.txt\n",
      "######################################################################### 100.0%\n",
      "+ curl -O -# https://www.gutenberg.org/files/8800/8800.txt\n",
      "######################################################################### 100.0%\n",
      "+ curl -O -# https://www.gutenberg.org/files/84/84-0.txt\n",
      "######################################################################### 100.0%\n",
      "+ curl -O -# https://www.gutenberg.org/files/2701/2701-0.txt\n",
      "######################################################################### 100.0%\n",
      "+ curl -O -# https://www.gutenberg.org/files/35/35-0.txt\n",
      "######################################################################### 100.0%\n",
      "+ curl -O -# https://www.gutenberg.org/files/1342/1342-0.txt\n",
      "######################################################################### 100.0%\n",
      "+ curl -O -# https://www.gutenberg.org/files/3825/3825-0.txt\n",
      "######################################################################### 100.0%\n",
      "+ curl -O -# https://www.gutenberg.org/files/996/996-0.txt\n",
      "######################################################################### 100.0%\n",
      "+ curl -O -# https://www.gutenberg.org/files/55/55-0.txt\n",
      "######################################################################### 100.0%\n",
      "+ curl -O -# https://www.gutenberg.org/files/6130/6130-0.txt\n",
      "######################################################################### 100.0%\n",
      "+ curl -O -# https://www.gutenberg.org/files/1727/1727-0.txt\n",
      "######################################################################### 100.0%\n"
     ]
    }
   ],
   "source": [
    "!./books.sh"
   ]
  },
  {
   "cell_type": "markdown",
   "metadata": {},
   "source": [
    "---\n",
    "\n",
    "Now let's compile and run the starting point:"
   ]
  },
  {
   "cell_type": "code",
   "execution_count": 2,
   "metadata": {},
   "outputs": [
    {
     "name": "stdout",
     "output_type": "stream",
     "text": [
      "Input size 11451743 chars.\n",
      "Assembled 99632 nodes on 1 domains in 267ms.\n"
     ]
    }
   ],
   "source": [
    "!g++ -std=c++20 -o tree starting_point.cpp -ltbb\n",
    "!./tree"
   ]
  },
  {
   "cell_type": "markdown",
   "metadata": {},
   "source": [
    "The input size should be 11451683 chars, and the sample books should have assembled 99743 nodes.\n",
    "\n",
    "This implementation reads all books into a single string of characters, and then processes it as 1 domain.\n",
    "\n",
    "## Exercise 1: process the input in parallel\n",
    "\n",
    "The goal of this exercise is to process the input in parallel using multiple domains."
   ]
  },
  {
   "cell_type": "markdown",
   "metadata": {},
   "source": [
    "### Solutions Exercise 1\n",
    "\n",
    "The solutions for each example are available in the `solutions/` sub-directory.\n",
    "\n",
    "The following compiles and runs the solutions for Exercise 0 using different compilers."
   ]
  },
  {
   "cell_type": "code",
   "execution_count": 3,
   "metadata": {},
   "outputs": [
    {
     "name": "stdout",
     "output_type": "stream",
     "text": [
      "Input size 11451743 chars.\n",
      "Assembled 99632 nodes on 1 domains in 232ms.\n",
      "Assembled 99632 nodes on 16 domains in 201ms.\n",
      "Assembled 99632 nodes on 100000 domains in 166ms.\n"
     ]
    }
   ],
   "source": [
    "!g++ -std=c++20 -Ofast -DNDEBUG -o tree solutions/exercise0.cpp\n",
    "!./tree"
   ]
  },
  {
   "cell_type": "code",
   "execution_count": 6,
   "metadata": {},
   "outputs": [
    {
     "name": "stdout",
     "output_type": "stream",
     "text": [
      "nvvmCompileProgram error 9: NVVM_ERROR_COMPILATION.\n",
      "Error: /tmp/pgacc3rBLuXtV9Je.gpu (1281, 38): parse atomicrmw value and pointer type do not match\n",
      "NVC++-F-0155-Compiler failed to translate accelerator region (see -Minfo messages): Device compiler exited with error status code (solutions/exercise0.cpp: 1)\n",
      "NVC++/x86-64 Linux 22.5-0: compilation aborted\n",
      "Input size 11451743 chars.\n",
      "Assembled 99632 nodes on 1 domains in 6244ms.\n",
      "Assembled 99632 nodes on 16 domains in 726ms.\n",
      "Assembled 99632 nodes on 100000 domains in 22ms.\n"
     ]
    }
   ],
   "source": [
    "# A GPU version using cuda::std::atomic is available:\n",
    "!nvc++ -std=c++20 -stdpar=gpu -gpu=cc80 -fast -DNDEBUG -o tree solutions/exercise0.cpp\n",
    "!./tree"
   ]
  }
 ],
 "metadata": {
  "kernelspec": {
   "display_name": "Python 3 (ipykernel)",
   "language": "python",
   "name": "python3"
  },
  "language_info": {
   "codemirror_mode": {
    "name": "ipython",
    "version": 3
   },
   "file_extension": ".py",
   "mimetype": "text/x-python",
   "name": "python",
   "nbconvert_exporter": "python",
   "pygments_lexer": "ipython3",
   "version": "3.8.10"
  }
 },
 "nbformat": 4,
 "nbformat_minor": 4
}

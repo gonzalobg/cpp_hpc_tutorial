{
 "cells": [
  {
   "cell_type": "markdown",
   "metadata": {},
   "source": [
    "Lab 1: DAXPY - Accelerating portable HPC Applications with Standard C++\n",
    "===\n",
    "\n",
    "This tutorial will familiarize you with the C++ parallel algorithms. We'll parallelize Double-precision $A \\cdot X + Y$ (`daxpy`), one of the main algorithms in the standard Basic Linear Algebra Subroutines (BLAS) library. It scales elements of the vector $X$ with the scalar $A$, and adds its result to the vector $Y$.\n",
    "\n",
    "We initialize `x[i] = i` and `y[i] = 2`, and all exercises validate your implementation of `daxpy` by checking `y` afterwards. \n",
    "\n",
    "## Sequential implementation\n",
    "\n",
    "A working sequential implementation is provided in [starting_point.cpp]. All exercises focus on the following two main functions:\n",
    "\n",
    "```c++\n",
    "/// Intialize vectors `x` and `y`: raw loop sequential version\n",
    "void initialize(std::vector<double> &x, std::vector<double> &y) {\n",
    "  for (std::size_t i = 0; i < x.size(); ++i) {\n",
    "    x[i] = (double)i;\n",
    "    y[i] = 2.;\n",
    "  }\n",
    "}\n",
    "\n",
    "/// DAXPY: AX + Y: raw loop sequential version\n",
    "void daxpy(double a, std::vector<double> const &x, std::vector<double> &y) {\n",
    "  for (std::size_t i = 0; i < y.size(); ++i)\n",
    "    y[i] += a * x[i];\n",
    "}\n",
    "```\n",
    "\n",
    "[starting_point.cpp]: ./starting_point.cpp\n",
    "\n",
    "Let's start by checking the version of some of the compilers installed in the image:"
   ]
  },
  {
   "cell_type": "code",
   "execution_count": null,
   "metadata": {},
   "outputs": [],
   "source": [
    "!g++ --version\n",
    "!clang++ --version\n",
    "!nvc++ --version"
   ]
  },
  {
   "cell_type": "markdown",
   "metadata": {},
   "source": [
    "---\n",
    "\n",
    "Now let's compile and run the starting point:"
   ]
  },
  {
   "cell_type": "code",
   "execution_count": null,
   "metadata": {},
   "outputs": [],
   "source": [
    "!g++ -std=c++20 -o daxpy starting_point.cpp\n",
    "!./daxpy 1000000"
   ]
  },
  {
   "cell_type": "markdown",
   "metadata": {},
   "source": [
    "Here the `-std=c++20` controls the C++ language version.\n",
    "\n",
    "Let's try again with optimizations using `-Ofast`, disabling debug checks `-DNDEBUG`, and compiling for the current CPU using `-march=native`:"
   ]
  },
  {
   "cell_type": "code",
   "execution_count": null,
   "metadata": {},
   "outputs": [],
   "source": [
    "!g++ -std=c++20 -Ofast -march=native -DNDEBUG -o daxpy starting_point.cpp\n",
    "!./daxpy 10000000"
   ]
  },
  {
   "cell_type": "markdown",
   "metadata": {},
   "source": [
    "## Exercise 1: From raw DAXPY loop to sequential C++ `std::for_each_n` algorithm\n",
    "\n",
    "The goal of this first exercise is to re-write the raw DAXPY loop by combining:\n",
    "- the C++ standard library [`std::for_each_n`] algorithm, and\n",
    "- [`std::views::iota`] to create an iterator over a range of integers.\n",
    "\n",
    "You can click on the links to access their documentation. \n",
    "\n",
    "A template for the solution is provided in [exercise1.cpp]. Please implement your solution by modifying only the sections of the code that have `// TODO` comments.\n",
    "There is no need to modify any other place in the program.\n",
    "\n",
    "```c++\n",
    "#include <chrono>\n",
    "// TODO: add C++ standard library includes as necessary\n",
    "\n",
    "/// DAXPY: AX + Y: sequential algorithm version\n",
    "void daxpy(double a, std::vector<double> const &x, std::vector<double> &y) {\n",
    "  // TODO: Implement using\n",
    "  // - std::views::iota(0).begin() iterator\n",
    "  // - std::for_each_n algorithm \n",
    "}\n",
    "```\n",
    "\n",
    "To test your solution, compile and run the template with the commands provided in the next cells. As is, the template compiles, but produces incorrect results because the `daxpy` implementation provided is empty. Once you fix it, the following cells should compile and run correctly.\n",
    "\n",
    "The following commands compile and run the [Exercise 1 Template](./exercise1.cpp):\n",
    "\n",
    "[exercise1.cpp]: ./exercise1.cpp\n",
    "[`std::for_each_n`]: https://en.cppreference.com/w/cpp/algorithm/for_each_n\n",
    "[`std::views::iota`]: https://en.cppreference.com/w/cpp/ranges/iota_view"
   ]
  },
  {
   "cell_type": "code",
   "execution_count": null,
   "metadata": {},
   "outputs": [],
   "source": [
    "!rm daxpy || true\n",
    "!g++ -std=c++20 -Ofast -march=native -DNDEBUG -o daxpy exercise1.cpp\n",
    "!./daxpy 1000000\n",
    "!rm daxpy || true\n",
    "!clang++ -std=c++20 -Ofast -march=native -DNDEBUG -o daxpy exercise1.cpp\n",
    "!./daxpy 1000000\n",
    "!rm daxpy || true\n",
    "!nvc++ -std=c++20 -O4 -fast -march=native -Mllvm-fast -DNDEBUG -o daxpy exercise1.cpp\n",
    "!./daxpy 1000000"
   ]
  },
  {
   "cell_type": "markdown",
   "metadata": {},
   "source": [
    "### Solutions Exercise 1\n",
    "\n",
    "The solutions for each example are available in the [`solutions/`] sub-directory; for the first exercise: [`solutions/exercise1.cpp`].\n",
    "\n",
    "The following block compiles and run the solutions for Exercise 1 using different compilers.\n",
    "\n",
    "[`solutions/`]: ./solutions\n",
    "[`solutions/exercise1.cpp`]: ./solutions/exercise1.cpp"
   ]
  },
  {
   "cell_type": "code",
   "execution_count": null,
   "metadata": {},
   "outputs": [],
   "source": [
    "!rm daxpy || true\n",
    "!g++ -std=c++20 -Ofast -march=native -DNDEBUG -o daxpy solutions/exercise1.cpp\n",
    "!./daxpy 1000000\n",
    "!rm daxpy || true\n",
    "!clang++ -std=c++20 -Ofast -march=native -DNDEBUG -o daxpy solutions/exercise1.cpp\n",
    "!./daxpy 1000000\n",
    "!rm daxpy || true\n",
    "!nvc++ -std=c++20 -Ofast -march=native -DNDEBUG -o daxpy solutions/exercise1.cpp\n",
    "!./daxpy 1000000"
   ]
  },
  {
   "cell_type": "markdown",
   "metadata": {},
   "source": [
    "## Exercise 2: Parallelizing DAXPY with execution policies\n",
    "\n",
    "To run DAXPY in parallel, the only thing we need to do are:\n",
    "- obtain access to the execution policies by `#include <execution>` header, and\n",
    "- pass the [`std::execution::par`] policy availablas the first argument of the [`std::for_each_n`] algorithm.\n",
    "\n",
    "```c++\n",
    "#include <algorithm>\n",
    "// TODO: add C++ standard library includes as necessary\n",
    "// #include <...>\n",
    "\n",
    "/// DAXPY: AX + Y: parallel algorithm version\n",
    "void daxpy(double a, std::vector<double> const &x, std::vector<double> &y) {\n",
    "  std::for_each_n(// TODO: pass std::execution::par, as first argument \n",
    "                  std::views::iota(0).begin(), x.size(), [&](int i) {\n",
    "    y[i] += a * x[i];\n",
    "  });\n",
    "}\n",
    "```\n",
    "\n",
    "A template for the solution is provided in the [exercise2.cpp] file; the following cell compiles and runs this template. Notice that now the compilation options have changed:\n",
    "- `clang` and `gcc`: need to link with the TBB library using the `-ltbb` flag\n",
    "- `nvc++`: need to use the `-stdpar=multicore` or `-stdpar=gpu` flags\n",
    "\n",
    "Once you make the changes, you should see the performance increase while the tests still pass.\n",
    "\n",
    "[exercise2.cpp]: ./exercise2.cpp\n",
    "[`std::for_each_n`]: https://en.cppreference.com/w/cpp/algorithm/for_each_n\n",
    "[`std::execution::par`]: https://en.cppreference.com/w/cpp/algorithm/execution_policy_tag"
   ]
  },
  {
   "cell_type": "code",
   "execution_count": null,
   "metadata": {},
   "outputs": [],
   "source": [
    "!rm daxpy || true\n",
    "!g++ -std=c++20 -Ofast -march=native -DNDEBUG -o daxpy exercise2.cpp -ltbb\n",
    "!./daxpy 1000000\n",
    "!rm daxpy || true\n",
    "!clang++ -std=c++20 -Ofast -march=native -DNDEBUG -o daxpy exercise2.cpp -ltbb\n",
    "!./daxpy 1000000\n",
    "!rm daxpy || true\n",
    "!nvc++ -std=c++20 -Ofast -march=native -DNDEBUG -stdpar=multicore -o daxpy exercise2.cpp\n",
    "!./daxpy 1000000\n",
    "!rm daxpy || true\n",
    "!nvc++ -std=c++20 -Ofast -march=native -DNDEBUG -stdpar=gpu -o daxpy exercise2.cpp\n",
    "!./daxpy 100000000"
   ]
  },
  {
   "cell_type": "markdown",
   "metadata": {},
   "source": [
    "### Solutions Exercise 2\n",
    "\n",
    "The following block compiles and run the [`solutions/exercise2.cpp`]:\n",
    "\n",
    "[`solutions/exercise2.cpp`]: ./solutions/exercise2.cpp"
   ]
  },
  {
   "cell_type": "code",
   "execution_count": null,
   "metadata": {},
   "outputs": [],
   "source": [
    "!rm daxpy || true\n",
    "!g++ -std=c++20 -Ofast -march=native -DNDEBUG -o daxpy solutions/exercise2.cpp -ltbb\n",
    "!./daxpy 1000000\n",
    "!rm daxpy || true\n",
    "!clang++ -std=c++20 -Ofast -march=native -DNDEBUG -o daxpy solutions/exercise2.cpp -ltbb\n",
    "!./daxpy 1000000\n",
    "!rm daxpy || true\n",
    "!nvc++ -std=c++20 -Ofast -march=native -DNDEBUG -stdpar=multicore -o daxpy solutions/exercise2.cpp\n",
    "!./daxpy 1000000\n",
    "!rm daxpy || true\n",
    "!nvc++ -std=c++20 -Ofast -march=native -DNDEBUG -stdpar=gpu -o daxpy solutions/exercise2.cpp\n",
    "!./daxpy 100000000"
   ]
  },
  {
   "cell_type": "markdown",
   "metadata": {},
   "source": [
    "## Exercise 3: Improving lambda captures for GPU performance\n",
    "\n",
    "In the previous execise, our parallel implementation captures everything in the lambda by reference, i.e., with a `[&](...) { ... }` capture clause. This only works on heterogeneous platforms that are coherent, like the one this notebook is running on, and on modern hardware-coherent platforms like Grace Hopper, this works really well. However, this notebook is running on a software-coherent platform, and on those, it costs us some performace.\n",
    "\n",
    "In this exercise, we will learn how to recover that performance, and how to write code that also works on non-coherent platforms: the solution to both issues is the same, and only requires modifying our lambda's capture clause to capture by value:\n",
    "\n",
    "```c++\n",
    "void daxpy(double a, std::vector<double> const &x, std::vector<double> &y) {\n",
    "  std::for_each_n(std::execution::par,\n",
    "                  std::views::iota(0).begin(), x.size(),    \n",
    "    [/* TODO: capture by value: a, x.data() and y.data() */](int i) {\n",
    "        y[i] += a * x[i];\n",
    "  });\n",
    "```\n",
    "\n",
    "Making a copy of the scalar `a` is fine, so we can just capture it by value `[a]`. However, we do not want to make a copy of the vectors `x` and `y`, since that would duplicate their elements. Instead, we just want to copy pointers to the data, to be able to directly access it, which we can do as follows `[x = x.data()]`.\n",
    "\n",
    "A template for the solution is provided in the [exercise3.cpp] file; the following cell compiles and runs this template. Once you make the changes, you should see the performance increase while the tests still pass.\n",
    "\n",
    "[exercise3.cpp]: ./exercise3.cpp"
   ]
  },
  {
   "cell_type": "code",
   "execution_count": null,
   "metadata": {},
   "outputs": [],
   "source": [
    "!rm daxpy || true\n",
    "!g++ -std=c++20 -Ofast -march=native -DNDEBUG -o daxpy exercise3.cpp -ltbb\n",
    "!./daxpy 1000000\n",
    "!rm daxpy || true\n",
    "!clang++ -std=c++20 -Ofast -march=native -DNDEBUG -o daxpy exercise3.cpp -ltbb\n",
    "!./daxpy 1000000\n",
    "!rm daxpy || true\n",
    "!nvc++ -std=c++20 -Ofast -march=native -DNDEBUG -stdpar=multicore -o daxpy exercise3.cpp\n",
    "!./daxpy 1000000\n",
    "!rm daxpy || true\n",
    "!nvc++ -std=c++20 -Ofast -march=native -DNDEBUG -stdpar=gpu -o daxpy exercise3.cpp\n",
    "!./daxpy 100000000"
   ]
  },
  {
   "cell_type": "markdown",
   "metadata": {},
   "source": [
    "### Solutions Exercise 3\n",
    "\n",
    "The following block compiles and run the [`solutions/exercise3.cpp`]:\n",
    "\n",
    "[`solutions/exercise3.cpp`]: ./solutions/exercise3.cpp"
   ]
  },
  {
   "cell_type": "code",
   "execution_count": null,
   "metadata": {},
   "outputs": [],
   "source": [
    "!rm daxpy || true\n",
    "!g++ -std=c++20 -Ofast -march=native -DNDEBUG -o daxpy solutions/exercise3.cpp -ltbb\n",
    "!./daxpy 1000000\n",
    "!rm daxpy || true\n",
    "!clang++ -std=c++20 -Ofast -march=native -DNDEBUG -o daxpy solutions/exercise3.cpp -ltbb\n",
    "!./daxpy 1000000\n",
    "!rm daxpy || true\n",
    "!nvc++ -std=c++20 -Ofast -march=native -DNDEBUG -stdpar=multicore -o daxpy solutions/exercise3.cpp\n",
    "!./daxpy 1000000\n",
    "!rm daxpy || true\n",
    "!nvc++ -std=c++20 -Ofast -march=native -DNDEBUG -stdpar=gpu -o daxpy solutions/exercise3.cpp\n",
    "!./daxpy 100000000"
   ]
  },
  {
   "cell_type": "markdown",
   "metadata": {},
   "source": [
    "## Exercise 4: Know your algorithms: `transform_reduce`\n",
    "\n",
    "In this exercise, we'll parallelize a variant of `daxpy` we'll call `daxpy_sum`: \n",
    "\n",
    "```c++\n",
    "/// DAXPY: AX + Y and returns sum(Y)\n",
    "double daxpy_sum(double a, std::vector<double> const &x, std::vector<double> &y) {\n",
    "  auto ints = std::views::iota(0, (int)x.size());\n",
    "  double sum = 0.;\n",
    "  for (auto i : ints) {\n",
    "    y[i] += a * x[i];\n",
    "    sum += y[i];\n",
    "  }\n",
    "  return sum;\n",
    "}\n",
    "```\n",
    "\n",
    "This new algorithm, like all previous exercises, performs a `daxpy`, but it also adds all elements of `y` up, that is, it also performs a reduction. \n",
    "\n",
    "We **cannot** solve this exercise by just using `std::for_each_n` like we did above, and directly updating `sum` concurrently from within the lambda, because C++ does not allow multiple threads to mutate a single shared value without extra synchronization (e.g. locks or atomics), which is in general expensive. \n",
    "\n",
    "The most efficient way to solve this problem, is to use the [`std::transform_reduce`] algorithm (click for documentation; we'll be using the `(3)` overload). This algorithm iterates over all elements of the sequence, and:\n",
    "- applies a function that takes one argument, `f`, to every element: `m(e)`,\n",
    "- combines multiple elements using a function that takes two arguments, `r`: `r(m(e0), m(e1))` or `r(m(e2), r(m(e0), m(e1)))`, etc.\n",
    "\n",
    "The API of [`std::transform_reduce`] we will be using is the following:\n",
    "- Need to `#include <numeric>` header to access [`std::transform_reduce`].\n",
    "\n",
    "```c++\n",
    "template <typename Iter, typename T, typename BinaryReduction, typename UnaryFunction>\n",
    "T transform_reduce(std::execution::par,     // Execution policy\n",
    "                   Iter begin, Iter end,    // [begin, end) range \n",
    "                   T init,                  // Inital value for reduction\n",
    "                   BinaryReduction r,       // Binary reduction: r(x, y) -> T above\n",
    "                   UnaryFunction   m);      // Unary function m(e) applied to every element in [begin, end)\n",
    "```\n",
    "\n",
    "Since we want to add all elements, we'll use `std::plus` from the `#include <functional>` header as our binary reduction, so that our `daxpy_sum` becomes: \n",
    "\n",
    "```c++\n",
    "double daxpy_sum(double a, std::vector<double> const &x, std::vector<double> &y) {\n",
    "  auto ints = std::views::iota(0, (int)x.size());\n",
    "  return std::transform_reduce(std::execution::par, ints.begin(), ints.end(), 0., std::plus{}, \n",
    "    [a, x = x.data(), y = y.data()](int i) {\n",
    "        // TODO: y[i] += a * x[i];\n",
    "        return /* TODO: y[i] */;\n",
    "  });\n",
    "}\n",
    "```\n",
    "\n",
    "[`std::transform_reduce`]: https://en.cppreference.com/w/cpp/algorithm/transform_reduce"
   ]
  },
  {
   "cell_type": "code",
   "execution_count": null,
   "metadata": {},
   "outputs": [],
   "source": [
    "!rm daxpy || true\n",
    "!g++ -std=c++20 -Ofast -march=native -DNDEBUG -o daxpy exercise4.cpp -ltbb\n",
    "!./daxpy 1000000\n",
    "!rm daxpy || true\n",
    "!clang++ -std=c++20 -Ofast -march=native -DNDEBUG -o daxpy exercise4.cpp -ltbb\n",
    "!./daxpy 1000000\n",
    "!rm daxpy || true\n",
    "!nvc++ -std=c++20 -Ofast -march=native -DNDEBUG -stdpar=multicore -o daxpy exercise4.cpp\n",
    "!./daxpy 1000000\n",
    "!rm daxpy || true\n",
    "!nvc++ -std=c++20 -Ofast -march=native -DNDEBUG -stdpar=gpu -o daxpy exercise4.cpp\n",
    "!./daxpy 100000000"
   ]
  },
  {
   "cell_type": "markdown",
   "metadata": {},
   "source": [
    "### Solutions Exercise 4\n",
    "\n",
    "The following block compiles and run the [`solutions/exercise4.cpp`]:\n",
    "\n",
    "[`solutions/exercise4.cpp`]: ./solutions/exercise4.cpp"
   ]
  },
  {
   "cell_type": "code",
   "execution_count": null,
   "metadata": {},
   "outputs": [],
   "source": [
    "!rm daxpy || true\n",
    "!g++ -std=c++20 -Ofast -march=native -DNDEBUG -o daxpy solutions/exercise4.cpp -ltbb\n",
    "!./daxpy 1000000\n",
    "!rm daxpy || true\n",
    "!clang++ -std=c++20 -Ofast -march=native -DNDEBUG -o daxpy solutions/exercise4.cpp -ltbb\n",
    "!./daxpy 1000000\n",
    "!rm daxpy || true\n",
    "!nvc++ -std=c++20 -Ofast -march=native -DNDEBUG -stdpar=multicore -o daxpy solutions/exercise4.cpp\n",
    "!./daxpy 1000000\n",
    "!rm daxpy || true\n",
    "!nvc++ -std=c++20 -Ofast -march=native -DNDEBUG -stdpar=gpu -o daxpy solutions/exercise4.cpp\n",
    "!./daxpy 100000000"
   ]
  },
  {
   "cell_type": "markdown",
   "metadata": {},
   "source": [
    "## [Optional] Exercise 5: Know your algorithms: `fill_n`\n",
    "\n",
    "In this exercise, we are going to parallelize the `initialize` function as follows: \n",
    "- Initialize `x[i] = i;` using [`std::for_each_n`] with [`std::views::iota`], just like in the previous exercise.\n",
    "- Initialize `y[i] = 2.;` using the [`std::fill_n`] algorithm, which writes the same value to all elements of a range.\n",
    "\n",
    "```c++\n",
    "/// Intialize vectors `x` and `y`: parallel algorithm version\n",
    "void initialize(std::vector<double> &x, std::vector<double> &y) {\n",
    "  // TODO: parallelize the initialization using\n",
    "  //  - for_each_n + views::iota to initialize x\n",
    "  //  - fill_n to initialize y\n",
    "  // for (std::size_t i = 0; i < x.size(); ++i) {\n",
    "  //   x[i] = (double)i;\n",
    "  //   y[i] = 2.;\n",
    "  // }\n",
    "}\n",
    "```\n",
    "\n",
    "The API of [`std::fill_n`] is (click on link for documentation):\n",
    "\n",
    "```c++\n",
    "std::fill_n(std::execution::par, // Execution policy\n",
    "            iterator,            // Iterator to the elements, e.g., a pointer\n",
    "            number_of_elements,  // Number of elements\n",
    "            value);              // Value to initialize all elements to\n",
    "```\n",
    "\n",
    "A template for the solution is provided in [exercise5.cpp]; it compiles and runs as provided, but produces incorrect results due to the incomplete implementation of the `initialize` function. Once you fix it, the following block should compile and run correctly.\n",
    "\n",
    "[`std::fill_n`]: https://en.cppreference.com/w/cpp/algorithm/fill_n \n",
    "[`std::for_each_n`]: https://en.cppreference.com/w/cpp/algorithm/for_each_n \n",
    "[`std::views::iota`]: https://en.cppreference.com/w/cpp/ranges/iota_view\n",
    "[exercise4.cpp]: ./exercise4.cpp"
   ]
  },
  {
   "cell_type": "code",
   "execution_count": null,
   "metadata": {},
   "outputs": [],
   "source": [
    "!rm daxpy || true\n",
    "!g++ -std=c++20 -Ofast -march=native -DNDEBUG -o daxpy exercise5.cpp -ltbb\n",
    "!./daxpy 1000000\n",
    "!rm daxpy || true\n",
    "!clang++ -std=c++20 -Ofast -march=native -DNDEBUG -o daxpy exercise5.cpp -ltbb\n",
    "!./daxpy 1000000\n",
    "!rm daxpy || true\n",
    "!nvc++ -std=c++20 -Ofast -march=native -DNDEBUG -stdpar=multicore -o daxpy exercise5.cpp\n",
    "!./daxpy 1000000\n",
    "!rm daxpy || true\n",
    "!nvc++ -std=c++20 -Ofast -march=native -DNDEBUG -stdpar=gpu -o daxpy exercise5.cpp\n",
    "!./daxpy 100000000"
   ]
  },
  {
   "cell_type": "markdown",
   "metadata": {},
   "source": [
    "### Solutions Exercise 5\n",
    "\n",
    "The following block compiles and run the [`solutions/exercise5.cpp`]:\n",
    "\n",
    "[`solutions/exercise5.cpp`]: ./solutions/exercise5.cpp"
   ]
  },
  {
   "cell_type": "code",
   "execution_count": null,
   "metadata": {},
   "outputs": [],
   "source": [
    "!rm daxpy || true\n",
    "!g++ -std=c++20 -Ofast -march=native -DNDEBUG -o daxpy solutions/exercise5.cpp -ltbb\n",
    "!./daxpy 1000000\n",
    "!rm daxpy || true\n",
    "!clang++ -std=c++20 -Ofast -march=native -DNDEBUG -o daxpy solutions/exercise5.cpp -ltbb\n",
    "!./daxpy 1000000\n",
    "!rm daxpy || true\n",
    "!nvc++ -std=c++20 -Ofast -march=native -DNDEBUG -stdpar=multicore -o daxpy solutions/exercise5.cpp\n",
    "!./daxpy 1000000\n",
    "!rm daxpy || true\n",
    "!nvc++ -std=c++20 -Ofast -march=native -DNDEBUG -stdpar=gpu -o daxpy solutions/exercise5.cpp\n",
    "!./daxpy 100000000"
   ]
  },
  {
   "cell_type": "markdown",
   "metadata": {},
   "source": [
    "If you are done quickly, please continue with the optional [Lab 1: Select](../lab1_select/select.ipynb)."
   ]
  },
  {
   "cell_type": "markdown",
   "metadata": {},
   "source": [
    "## Exercise 6: Process multiple elements per iteration with multi-dimensional span\n",
    "\n",
    "In this exercise, we'll process multiple elements per task by _tiling_ our 1D vectors as 2D matrices using [`std::mdspan`].\n",
    "We then perform a parallel for over the number of rows, `nrows`, and then sequentially process the `ncols` elements of each row.\n",
    "\n",
    "```c++\n",
    "void daxpy(double a, std::vector<double> &x, std::vector<double> &y, size_t ncols = 1) {\n",
    "  assert(x.size() == y.size());\n",
    "  if (x.size() % ncols != 0) { \n",
    "      std::cerr << \"ERROR: size \" << x.size() << \" not divisible by \" << ncols << std::endl; \n",
    "      std::abort(); \n",
    "  }\n",
    "  size_t nrows = x.size() / ncols;\n",
    "\n",
    "  std::mdspan xs { x.data(), nrows, ncols };\n",
    "  std::mdspan ys { y.data(), nrows, ncols };\n",
    "  std::for_each_n(std::execution::par,\n",
    "                  std::views::iota(0).begin(), nrows, [=](int row) {\n",
    "        for (size_t col = 0; col < ncols; ++col) ys(row, col) += a * xs(row, col);\n",
    "  });\n",
    "}\n",
    "```\n",
    "\n",
    "[`std::mdspan`]: https://en.cppreference.com/w/cpp/container/mdspan"
   ]
  },
  {
   "cell_type": "code",
   "execution_count": null,
   "metadata": {},
   "outputs": [],
   "source": [
    "!rm daxpy || true\n",
    "!g++ -std=c++23 -Ofast -march=native -DNDEBUG -o daxpy exercise6.cpp -ltbb\n",
    "!./daxpy 1000000\n",
    "!rm daxpy || true\n",
    "!clang++ -std=c++23 -Ofast -march=native -DNDEBUG -o daxpy exercise6.cpp -ltbb\n",
    "!./daxpy 1000000\n",
    "!rm daxpy || true\n",
    "!nvc++ -std=c++23 -Ofast -march=native -DNDEBUG -stdpar=multicore -o daxpy exercise6.cpp\n",
    "!./daxpy 1000000\n",
    "!nvc++ -std=c++23 -Ofast -march=native -DNDEBUG -stdpar=gpu -o daxpy exercise6.cpp\n",
    "!./daxpy 100000000"
   ]
  },
  {
   "cell_type": "markdown",
   "metadata": {},
   "source": [
    "### Solutions Exercise 6\n",
    "\n",
    "The following block compiles and run the [`solutions/exercise6.cpp`]:\n",
    "\n",
    "[`solutions/exercise6.cpp`]: ./solutions/exercise6.cpp"
   ]
  },
  {
   "cell_type": "code",
   "execution_count": null,
   "metadata": {},
   "outputs": [],
   "source": [
    "!rm daxpy || true\n",
    "!g++ -std=c++23 -Ofast -march=native -DNDEBUG -o daxpy solutions/exercise6.cpp -ltbb\n",
    "!./daxpy 1000000\n",
    "!rm daxpy || true\n",
    "!clang++ -std=c++23 -Ofast -march=native -DNDEBUG -o daxpy solutions/exercise6.cpp -ltbb\n",
    "!./daxpy 1000000\n",
    "!rm daxpy || true\n",
    "!nvc++ -std=c++23 -Ofast -march=native -DNDEBUG -stdpar=multicore -o daxpy solutions/exercise6.cpp\n",
    "!./daxpy 1000000\n",
    "!nvc++ -std=c++23 -Ofast -march=native -DNDEBUG -stdpar=gpu -o daxpy solutions/exercise6.cpp\n",
    "!./daxpy 100000000"
   ]
  },
  {
   "cell_type": "markdown",
   "metadata": {},
   "source": [
    "## [Optional] Exercise 7: Modify mdspan layout\n",
    "\n",
    "In this optional exercise, we'll change the layout of the [`std::mdspan`] to be [`std::layout_left`]:\n",
    "\n",
    "```c++\n",
    "void daxpy(double a, std::vector<double> &x, std::vector<double> &y, size_t ncols = 1) {\n",
    "  assert(x.size() == y.size());\n",
    "  if (x.size() % ncols != 0) { \n",
    "      std::cerr << \"ERROR: size \" << x.size() << \" not divisible by \" << ncols << std::endl; \n",
    "      std::abort(); \n",
    "  }\n",
    "  size_t nrows = x.size() / ncols;\n",
    "\n",
    "  auto l = std::layout_right::mapping(std::dextents<size_t, 2>(nrows, ncols));\n",
    "  std::mdspan xs { x.data(), l };\n",
    "  std::mdspan ys { y.data(), l };\n",
    "  std::for_each_n(std::execution::par,\n",
    "                  std::views::iota(0).begin(), nrows, [=](int row) {\n",
    "        for (size_t col = 0; col < ncols; ++col) {\n",
    "            ys(row, col) += a * xs(row, col);\n",
    "        }\n",
    "  });\n",
    "}\n",
    "```\n",
    "\n",
    "[`std::mdspan`]: https://en.cppreference.com/w/cpp/container/mdspan\n",
    "[`std::layout_left`]: https://en.cppreference.com/w/cpp/container/mdspan/layout_left"
   ]
  },
  {
   "cell_type": "code",
   "execution_count": null,
   "metadata": {},
   "outputs": [],
   "source": [
    "!rm daxpy || true\n",
    "!g++ -std=c++23 -Ofast -march=native -DNDEBUG -o daxpy exercise7.cpp -ltbb\n",
    "!./daxpy 1000000\n",
    "!rm daxpy || true\n",
    "!clang++ -std=c++23 -Ofast -march=native -DNDEBUG -o daxpy exercise7.cpp -ltbb\n",
    "!./daxpy 1000000\n",
    "!rm daxpy || true\n",
    "!nvc++ -std=c++23 -Ofast -march=native -DNDEBUG -stdpar=multicore -o daxpy exercise7.cpp\n",
    "!./daxpy 1000000\n",
    "!nvc++ -std=c++23 -Ofast -march=native -DNDEBUG -stdpar=gpu -o daxpy exercise7.cpp\n",
    "!./daxpy 100000000"
   ]
  },
  {
   "cell_type": "markdown",
   "metadata": {},
   "source": [
    "### Solutions Exercise 7\n",
    "\n",
    "The following block compiles and run the [`solutions/exercise7.cpp`]:\n",
    "\n",
    "[`solutions/exercise7.cpp`]: ./solutions/exercise7.cpp"
   ]
  },
  {
   "cell_type": "code",
   "execution_count": null,
   "metadata": {},
   "outputs": [],
   "source": [
    "!rm daxpy || true\n",
    "!g++ -std=c++23 -Ofast -march=native -DNDEBUG -o daxpy solutions/exercise7.cpp -ltbb\n",
    "!./daxpy 1000000\n",
    "!rm daxpy || true\n",
    "!clang++ -std=c++23 -Ofast -march=native -DNDEBUG -o daxpy solutions/exercise7.cpp -ltbb\n",
    "!./daxpy 1000000\n",
    "!rm daxpy || true\n",
    "!nvc++ -std=c++23 -Ofast -march=native -DNDEBUG -stdpar=multicore -o daxpy solutions/exercise7.cpp\n",
    "!./daxpy 1000000\n",
    "!nvc++ -std=c++23 -Ofast -march=native -DNDEBUG -stdpar=gpu -o daxpy solutions/exercise7.cpp\n",
    "!./daxpy 100000000"
   ]
  },
  {
   "cell_type": "markdown",
   "metadata": {},
   "source": [
    "## Exercise 8: `std::views::cartesian_product`\n",
    "\n",
    "In this exercise, we'll learn how to use [`std::views::cartesian_product`] to iterate over multi-dimensional data such as the two-dimensional [`std::mdspan`] we've used in the previous exercises. We've been using the [`std::for_each_n`] algorithm with an iterator and a count, combined with a sequential loop as follows:\n",
    "\n",
    "```c++\n",
    "  std::for_each_n(std::execution::par,\n",
    "                  std::views::iota(0).begin(), nrows, [=](int row) {\n",
    "        for (size_t col = 0; col < ncols; ++col) {\n",
    "            ys(row, col) += a * xs(row, col);\n",
    "        }\n",
    "  });\n",
    "```\n",
    "\n",
    "The goal of this exercise is to convert the above to use the [`std::for_each`] algorithm (without the `_n`), to iterate in parallel over a  [`std::views::cartesian_product`] view and, within the loop, obtain the indices for each dimension:\n",
    "\n",
    "```c++\n",
    "  // Create a std::views::cartesian_product range spanning (0, nrows)x(0, ncols):\n",
    "  auto is = std::views::cartesian_product(\n",
    "    std::views::iota(0, nrows),\n",
    "    std::views::iota(0, ncols)\n",
    "  );\n",
    "  // Use the std::for_each (without _n) algorithm to iterate in parallel over the cartesian_product range:\n",
    "  std::for_each(std::execution::par, is.begin(), is.end(), [=](auto i) {\n",
    "    // Each element of the cartesian_product range is a tuple containing one index per dimension.\n",
    "    // Extract the individual indices using structured bindings:\n",
    "    auto [row, col] = i;\n",
    "    ys(row, col) += a * xs(row, col);\n",
    "  });\n",
    "```\n",
    "\n",
    "[`std::views::cartesian_product`]: https://en.cppreference.com/w/cpp/ranges/cartesian_product_view\n",
    "[`std::mdspan`]: https://en.cppreference.com/w/cpp/container/mdspan\n",
    "[`std::for_each_n`]: https://en.cppreference.com/w/cpp/algorithm/for_each_n\n",
    "[`std::for_each`]: https://en.cppreference.com/w/cpp/algorithm/for_each"
   ]
  },
  {
   "cell_type": "code",
   "execution_count": null,
   "metadata": {},
   "outputs": [],
   "source": [
    "!rm daxpy || true\n",
    "!g++ -std=c++23 -Ofast -march=native -DNDEBUG -o daxpy exercise8.cpp -ltbb\n",
    "!./daxpy 1000000\n",
    "!rm daxpy || true\n",
    "!clang++ -std=c++23 -Ofast -march=native -DNDEBUG -o daxpy exercise8.cpp -ltbb\n",
    "!./daxpy 1000000\n",
    "!rm daxpy || true\n",
    "!nvc++ -std=c++23 -Ofast -march=native -DNDEBUG -stdpar=multicore -o daxpy exercise8.cpp\n",
    "!./daxpy 1000000\n",
    "!nvc++ -std=c++23 -Ofast -march=native -DNDEBUG -stdpar=gpu -o daxpy exercise8.cpp\n",
    "!./daxpy 100000000"
   ]
  },
  {
   "cell_type": "markdown",
   "metadata": {},
   "source": [
    "### Solutions Exercise 8\n",
    "\n",
    "The following block compiles and run the [`solutions/exercise8.cpp`]:\n",
    "\n",
    "[`solutions/exercise8.cpp`]: ./solutions/exercise8.cpp"
   ]
  },
  {
   "cell_type": "code",
   "execution_count": null,
   "metadata": {},
   "outputs": [],
   "source": [
    "!rm daxpy || true\n",
    "!g++ -std=c++23 -Ofast -march=native -DNDEBUG -o daxpy solutions/exercise8.cpp -ltbb\n",
    "!./daxpy 1000000\n",
    "!rm daxpy || true\n",
    "!clang++ -std=c++23 -Ofast -march=native -DNDEBUG -o daxpy solutions/exercise8.cpp -ltbb\n",
    "!./daxpy 1000000\n",
    "!rm daxpy || true\n",
    "!nvc++ -std=c++23 -Ofast -march=native -DNDEBUG -stdpar=multicore -o daxpy solutions/exercise8.cpp\n",
    "!./daxpy 1000000\n",
    "!nvc++ -std=c++23 -Ofast -march=native -DNDEBUG -stdpar=gpu -o daxpy solutions/exercise8.cpp\n",
    "!./daxpy 100000000"
   ]
  },
  {
   "cell_type": "markdown",
   "metadata": {},
   "source": [
    "## More optional exercises\n",
    "\n",
    "For more optional exercises, check out [Lab 1: Select](../lab1_select/select.ipynb)."
   ]
  }
 ],
 "metadata": {
  "kernelspec": {
   "display_name": "Python 3 (ipykernel)",
   "language": "python",
   "name": "python3"
  },
  "language_info": {
   "codemirror_mode": {
    "name": "ipython",
    "version": 3
   },
   "file_extension": ".py",
   "mimetype": "text/x-python",
   "name": "python",
   "nbconvert_exporter": "python",
   "pygments_lexer": "ipython3",
   "version": "3.10.12"
  }
 },
 "nbformat": 4,
 "nbformat_minor": 4
}
